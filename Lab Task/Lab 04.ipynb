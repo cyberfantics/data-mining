{
 "cells": [
  {
   "cell_type": "markdown",
   "id": "a958aaef-8b15-4c23-bb50-8ff7a409d3d6",
   "metadata": {},
   "source": [
    "<div style=\"font-family: 'Arial', sans-serif; font-size: 48px; font-weight: bold; text-align: center; color: #ffcc00; background-color: #2a2a2a; padding: 30px; border: 3px solid #444; border-radius: 15px; box-shadow: 0 4px 10px rgba(0, 0, 0, 0.3); margin-bottom: 20px;\">\n",
    "    Data Mining\n",
    "</div>\n",
    "\n",
    "<div style=\"font-family: 'Arial', sans-serif; font-size: 48px; font-weight: bold; text-align: center; color: #ff9900; background-color: #333333; padding: 20px; border: 3px solid #444; border-radius: 15px; box-shadow: 0 4px 10px rgba(0, 0, 0, 0.3); margin-bottom: 20px;\">\n",
    "    Lab 04\n",
    "</div>\n",
    "\n",
    "<div style=\"font-family: 'Arial', sans-serif; font-size: 48px; font-weight: bold; text-align: center; color: #ff6600; background-color: #1c1c1c; padding: 20px; border: 3px solid #444; border-radius: 15px; box-shadow: 0 4px 10px rgba(0, 0, 0, 0.3); margin-bottom: 20px;\">\n",
    "    Syed Mansoor ul Hassan Bukhari\n",
    "</div>\n",
    "\n",
    "<div style=\"font-family: 'Arial', sans-serif; font-size: 48px; font-weight: bold; text-align: center; color: #ffcc00; background-color: #222222; padding: 20px; border: 3px solid #444; border-radius: 15px; box-shadow: 0 4px 10px rgba(0, 0, 0, 0.3); margin-bottom: 20px;\">\n",
    "    BSAI - VII\n",
    "</div>\n",
    "\n",
    "<div style=\"font-family: 'Arial', sans-serif; font-size: 48px; font-weight: bold; text-align: center; color: #ff3300; background-color: #1c1c1c; padding: 20px; border: 3px solid #444; border-radius: 15px; box-shadow: 0 4px 10px rgba(0, 0, 0, 0.3);\">\n",
    "    2021-25\n",
    "</div>\n",
    "\n",
    "<div style=\"font-family: 'Arial', sans-serif; font-size: 48px; font-weight: bold; text-align: center; color: #3399ff; background-color: #1c1c1c; padding: 20px; border: 3px solid #444; border-radius: 15px; box-shadow: 0 4px 10px rgba(0, 0, 0, 0.3);\">\n",
    "    <span style=\"position: relative; top: -10px;\">12<sup>th</sup></span> Nov, 2024\n",
    "</div>\n"
   ]
  },
  {
   "cell_type": "markdown",
   "id": "b6a83bc0-c043-49ce-ba2b-d862e8c263ba",
   "metadata": {},
   "source": [
    "<div style=\"font-family: 'Arial', sans-serif; font-size: 20px; text-align: left; color: #ffffff; background-color: #2d2d2d; padding: 25px; border: 3px solid #555555; border-radius: 15px; box-shadow: 0 6px 15px rgba(0, 0, 0, 0.4); margin-bottom: 25px;\">\n",
    "    <strong style=\"color: #ffcc00;\">Question 01: </strong>\n",
    "    <span style=\"color: #cccccc;\">Find most similar documents from the following data matrix using Cosine Similarity measure.</span>\n",
    "</div>\n",
    "<img src=\"Pictures/Picture2.jpg\" />"
   ]
  },
  {
   "cell_type": "markdown",
   "id": "0d708ef3-9d5f-4aec-b1e8-e8355502f856",
   "metadata": {},
   "source": [
    "<div style=\"font-family: 'Arial', sans-serif; font-size: 20px; color: #ffffff; background-color: #2d2d2d; padding: 25px; border: 3px solid #555555; border-radius: 15px; box-shadow: 0 6px 15px rgba(0, 0, 0, 0.4); margin-bottom: 25px;\">\n",
    "    <strong style=\"color: #ffcc00;\">Finding Most Similar Documents Using Cosine Similarity</strong><br><br>\n",
    "    <span style=\"color: #cccccc;\">In this section, we calculate the similarity between documents based on their numerical features using the <span style=\"color: #ffcc00;\">Cosine Similarity</span> measure. Cosine similarity measures the cosine of the angle between two vectors, providing a way to quantify the degree of similarity between them.</span></br>\n",
    "    <strong style=\"color: #ffcc00;\">1. Prepare the Data</strong></br>\n",
    "    <span style=\"color: #cccccc;\">Each document is represented by numerical features (columns), which are treated as vectors in a multi-dimensional space. For example, the \"Team\", \"Coach\", \"Hockey\", \"Baseball\", \"Soccer\", and other columns represent different dimensions of the document's feature vector.</span></br>\n",
    "    <strong style=\"color: #ffcc00;\">2. Calculate Cosine Similarity</strong></br>\n",
    "    <span style=\"color: #cccccc;\">The cosine similarity between two vectors <span style=\"color: #ffcc00;\">A</span> and <span style=\"color: #ffcc00;\">B</span> is given by the formula:</span></br>\n",
    "    <pre style=\"color: #cccccc; background-color: #333333; padding: 10px;\">\n",
    "        cosine_similarity(A, B) = (A ⋅ B) / (||A|| ||B||)\n",
    "    </pre>\n",
    "    <span style=\"color: #cccccc;\">Where:</span></br>\n",
    "    <ul style=\"color: #cccccc;\">\n",
    "        <li><span style=\"color: #ffcc00;\">A ⋅ B</span> is the dot product of vectors <span style=\"color: #ffcc00;\">A</span> and <span style=\"color: #ffcc00;\">B</span>,</li>\n",
    "        <li><span style=\"color: #ffcc00;\">||A||</span> and <span style=\"color: #ffcc00;\">||B||</span> are the magnitudes (norms) of the vectors <span style=\"color: #ffcc00;\">A</span> and <span style=\"color: #ffcc00;\">B</span>.</li>\n",
    "    </ul>\n",
    "    <span style=\"color: #cccccc;\">The cosine similarity score ranges from -1 (completely dissimilar) to 1 (identical vectors), with 0 indicating orthogonal (no similarity) vectors.</span></br>\n",
    "        <strong style=\"color: #ffcc00;\">3. Compute Pairwise Cosine Similarity</strong><br><span style=\"color: #cccccc;\">To find the most similar documents, we calculate the cosine similarity between every pair of documents in the dataset. The result is a similarity matrix that shows the pairwise similarity scores.</span>\n",
    "</div>\n"
   ]
  },
  {
   "cell_type": "markdown",
   "id": "bb0f4e5c-17c7-47a5-8f04-85d5ecf129b8",
   "metadata": {},
   "source": [
    "<div style=\"font-family: 'Arial', sans-serif; font-size: 20px; color: #ffffff; background-color: #2d2d2d; padding: 25px; border: 3px solid #555555; border-radius: 15px; box-shadow: 0 6px 15px rgba(0, 0, 0, 0.4); margin-bottom: 25px;\">\n",
    "<center>\n",
    "  <span style=\"color:#4682B4; font-size:22px; font-weight: bold; padding: 5px;\">Import Libraries</span>\n",
    "</center>\n",
    "</div>"
   ]
  },
  {
   "cell_type": "code",
   "execution_count": 1,
   "id": "5f051c78-0e19-4569-968b-9a7fed19f629",
   "metadata": {},
   "outputs": [],
   "source": [
    "import pandas as pd\n",
    "from sklearn.metrics.pairwise import cosine_similarity"
   ]
  },
  {
   "cell_type": "markdown",
   "id": "a129751e-7064-4800-905c-948b09cacbd5",
   "metadata": {},
   "source": [
    "<div style=\"font-family: 'Arial', sans-serif; font-size: 20px; color: #ffffff; background-color: #2d2d2d; padding: 25px; border: 3px solid #555555; border-radius: 15px; box-shadow: 0 6px 15px rgba(0, 0, 0, 0.4); margin-bottom: 25px;\">\n",
    "<center>\n",
    "  <span style=\"color:#4682B4; font-size:22px; font-weight: bold; padding: 5px;\">Create DataFrame</span>\n",
    "</center>\n",
    "</div>"
   ]
  },
  {
   "cell_type": "code",
   "execution_count": 2,
   "id": "c5ed0c24-a912-437e-951f-1fb234912544",
   "metadata": {},
   "outputs": [],
   "source": [
    "df = pd.DataFrame({\n",
    "    \"Document\": ['Document1', 'Document2', 'Document3', 'Document4'],\n",
    "    'Team': [5, 3, 0, 0],\n",
    "    'Coach': [0, 0, 7, 1],\n",
    "    'Hockey': [3, 2, 0, 0],\n",
    "    'Baseball': [0, 0, 2, 0],\n",
    "    'Soccer': [2, 1, 1, 1],\n",
    "    'Penalty': [0, 1, 0, 2],\n",
    "    'Score': [0, 0, 0, 2],\n",
    "    'Win': [2, 1, 3, 0],\n",
    "    'Loss': [0, 0, 0, 3],\n",
    "    'Season': [0, 1, 0, 0]\n",
    "})"
   ]
  },
  {
   "cell_type": "markdown",
   "id": "6a3ee61e-b0a7-4de4-aa82-ee7900796891",
   "metadata": {},
   "source": [
    "<div style=\"font-family: 'Arial', sans-serif; font-size: 20px; color: #ffffff; background-color: #2d2d2d; padding: 25px; border: 3px solid #555555; border-radius: 15px; box-shadow: 0 6px 15px rgba(0, 0, 0, 0.4); margin-bottom: 25px;\">\n",
    "<center>\n",
    "  <span style=\"color:#4682B4; font-size:22px; font-weight: bold; padding: 5px;\">Drop the 'Document' column as it's not part of the numerical matrix</span>\n",
    "</center>\n",
    "</div>"
   ]
  },
  {
   "cell_type": "code",
   "execution_count": 3,
   "id": "3c659b16-a549-4699-8d56-befea5f53c85",
   "metadata": {},
   "outputs": [],
   "source": [
    "matrix = df.drop(columns=['Document'])"
   ]
  },
  {
   "cell_type": "code",
   "execution_count": 4,
   "id": "0a5d57d8-56b6-47b0-9160-f2be81b19592",
   "metadata": {},
   "outputs": [
    {
     "data": {
      "text/html": [
       "<div>\n",
       "<style scoped>\n",
       "    .dataframe tbody tr th:only-of-type {\n",
       "        vertical-align: middle;\n",
       "    }\n",
       "\n",
       "    .dataframe tbody tr th {\n",
       "        vertical-align: top;\n",
       "    }\n",
       "\n",
       "    .dataframe thead th {\n",
       "        text-align: right;\n",
       "    }\n",
       "</style>\n",
       "<table border=\"1\" class=\"dataframe\">\n",
       "  <thead>\n",
       "    <tr style=\"text-align: right;\">\n",
       "      <th></th>\n",
       "      <th>Document</th>\n",
       "      <th>Team</th>\n",
       "      <th>Coach</th>\n",
       "      <th>Hockey</th>\n",
       "      <th>Baseball</th>\n",
       "      <th>Soccer</th>\n",
       "      <th>Penalty</th>\n",
       "      <th>Score</th>\n",
       "      <th>Win</th>\n",
       "      <th>Loss</th>\n",
       "      <th>Season</th>\n",
       "    </tr>\n",
       "  </thead>\n",
       "  <tbody>\n",
       "    <tr>\n",
       "      <th>0</th>\n",
       "      <td>Document1</td>\n",
       "      <td>5</td>\n",
       "      <td>0</td>\n",
       "      <td>3</td>\n",
       "      <td>0</td>\n",
       "      <td>2</td>\n",
       "      <td>0</td>\n",
       "      <td>0</td>\n",
       "      <td>2</td>\n",
       "      <td>0</td>\n",
       "      <td>0</td>\n",
       "    </tr>\n",
       "    <tr>\n",
       "      <th>1</th>\n",
       "      <td>Document2</td>\n",
       "      <td>3</td>\n",
       "      <td>0</td>\n",
       "      <td>2</td>\n",
       "      <td>0</td>\n",
       "      <td>1</td>\n",
       "      <td>1</td>\n",
       "      <td>0</td>\n",
       "      <td>1</td>\n",
       "      <td>0</td>\n",
       "      <td>1</td>\n",
       "    </tr>\n",
       "    <tr>\n",
       "      <th>2</th>\n",
       "      <td>Document3</td>\n",
       "      <td>0</td>\n",
       "      <td>7</td>\n",
       "      <td>0</td>\n",
       "      <td>2</td>\n",
       "      <td>1</td>\n",
       "      <td>0</td>\n",
       "      <td>0</td>\n",
       "      <td>3</td>\n",
       "      <td>0</td>\n",
       "      <td>0</td>\n",
       "    </tr>\n",
       "    <tr>\n",
       "      <th>3</th>\n",
       "      <td>Document4</td>\n",
       "      <td>0</td>\n",
       "      <td>1</td>\n",
       "      <td>0</td>\n",
       "      <td>0</td>\n",
       "      <td>1</td>\n",
       "      <td>2</td>\n",
       "      <td>2</td>\n",
       "      <td>0</td>\n",
       "      <td>3</td>\n",
       "      <td>0</td>\n",
       "    </tr>\n",
       "  </tbody>\n",
       "</table>\n",
       "</div>"
      ],
      "text/plain": [
       "    Document  Team  Coach  Hockey  Baseball  Soccer  Penalty  Score  Win  \\\n",
       "0  Document1     5      0       3         0       2        0      0    2   \n",
       "1  Document2     3      0       2         0       1        1      0    1   \n",
       "2  Document3     0      7       0         2       1        0      0    3   \n",
       "3  Document4     0      1       0         0       1        2      2    0   \n",
       "\n",
       "   Loss  Season  \n",
       "0     0       0  \n",
       "1     0       1  \n",
       "2     0       0  \n",
       "3     3       0  "
      ]
     },
     "execution_count": 4,
     "metadata": {},
     "output_type": "execute_result"
    }
   ],
   "source": [
    "df"
   ]
  },
  {
   "cell_type": "code",
   "execution_count": 5,
   "id": "e5aaa12f-7241-4944-8dfa-f324ad679f44",
   "metadata": {},
   "outputs": [
    {
     "data": {
      "text/html": [
       "<div>\n",
       "<style scoped>\n",
       "    .dataframe tbody tr th:only-of-type {\n",
       "        vertical-align: middle;\n",
       "    }\n",
       "\n",
       "    .dataframe tbody tr th {\n",
       "        vertical-align: top;\n",
       "    }\n",
       "\n",
       "    .dataframe thead th {\n",
       "        text-align: right;\n",
       "    }\n",
       "</style>\n",
       "<table border=\"1\" class=\"dataframe\">\n",
       "  <thead>\n",
       "    <tr style=\"text-align: right;\">\n",
       "      <th></th>\n",
       "      <th>Team</th>\n",
       "      <th>Coach</th>\n",
       "      <th>Hockey</th>\n",
       "      <th>Baseball</th>\n",
       "      <th>Soccer</th>\n",
       "      <th>Penalty</th>\n",
       "      <th>Score</th>\n",
       "      <th>Win</th>\n",
       "      <th>Loss</th>\n",
       "      <th>Season</th>\n",
       "    </tr>\n",
       "  </thead>\n",
       "  <tbody>\n",
       "    <tr>\n",
       "      <th>0</th>\n",
       "      <td>5</td>\n",
       "      <td>0</td>\n",
       "      <td>3</td>\n",
       "      <td>0</td>\n",
       "      <td>2</td>\n",
       "      <td>0</td>\n",
       "      <td>0</td>\n",
       "      <td>2</td>\n",
       "      <td>0</td>\n",
       "      <td>0</td>\n",
       "    </tr>\n",
       "    <tr>\n",
       "      <th>1</th>\n",
       "      <td>3</td>\n",
       "      <td>0</td>\n",
       "      <td>2</td>\n",
       "      <td>0</td>\n",
       "      <td>1</td>\n",
       "      <td>1</td>\n",
       "      <td>0</td>\n",
       "      <td>1</td>\n",
       "      <td>0</td>\n",
       "      <td>1</td>\n",
       "    </tr>\n",
       "    <tr>\n",
       "      <th>2</th>\n",
       "      <td>0</td>\n",
       "      <td>7</td>\n",
       "      <td>0</td>\n",
       "      <td>2</td>\n",
       "      <td>1</td>\n",
       "      <td>0</td>\n",
       "      <td>0</td>\n",
       "      <td>3</td>\n",
       "      <td>0</td>\n",
       "      <td>0</td>\n",
       "    </tr>\n",
       "    <tr>\n",
       "      <th>3</th>\n",
       "      <td>0</td>\n",
       "      <td>1</td>\n",
       "      <td>0</td>\n",
       "      <td>0</td>\n",
       "      <td>1</td>\n",
       "      <td>2</td>\n",
       "      <td>2</td>\n",
       "      <td>0</td>\n",
       "      <td>3</td>\n",
       "      <td>0</td>\n",
       "    </tr>\n",
       "  </tbody>\n",
       "</table>\n",
       "</div>"
      ],
      "text/plain": [
       "   Team  Coach  Hockey  Baseball  Soccer  Penalty  Score  Win  Loss  Season\n",
       "0     5      0       3         0       2        0      0    2     0       0\n",
       "1     3      0       2         0       1        1      0    1     0       1\n",
       "2     0      7       0         2       1        0      0    3     0       0\n",
       "3     0      1       0         0       1        2      2    0     3       0"
      ]
     },
     "execution_count": 5,
     "metadata": {},
     "output_type": "execute_result"
    }
   ],
   "source": [
    "matrix"
   ]
  },
  {
   "cell_type": "markdown",
   "id": "225e059b-cd0b-401d-b8f1-e1540c0fdf31",
   "metadata": {},
   "source": [
    "<div style=\"font-family: 'Arial', sans-serif; font-size: 20px; color: #ffffff; background-color: #2d2d2d; padding: 25px; border: 3px solid #555555; border-radius: 15px; box-shadow: 0 6px 15px rgba(0, 0, 0, 0.4); margin-bottom: 25px;\">\n",
    "<center>\n",
    "  <span style=\"color:#4682B4; font-size:22px; font-weight: bold; padding: 5px;\">Compute cosine similarity</span>\n",
    "</center>\n",
    "</div>"
   ]
  },
  {
   "cell_type": "code",
   "execution_count": 6,
   "id": "9c5b8b1c-b38b-47fa-998f-728b891117c3",
   "metadata": {},
   "outputs": [],
   "source": [
    "cos_sim = cosine_similarity(matrix)"
   ]
  },
  {
   "cell_type": "code",
   "execution_count": 7,
   "id": "a9c30c17-910a-43ff-94d2-f5c0dc45eccb",
   "metadata": {},
   "outputs": [
    {
     "data": {
      "text/plain": [
       "array([[1.        , 0.93560149, 0.15552316, 0.07079923],\n",
       "       [0.93560149, 1.        , 0.12222647, 0.16692447],\n",
       "       [0.15552316, 0.12222647, 1.        , 0.23122933],\n",
       "       [0.07079923, 0.16692447, 0.23122933, 1.        ]])"
      ]
     },
     "execution_count": 7,
     "metadata": {},
     "output_type": "execute_result"
    }
   ],
   "source": [
    "cos_sim"
   ]
  },
  {
   "cell_type": "markdown",
   "id": "26bfbc68-801f-48b0-af2b-b3dc0e566a96",
   "metadata": {},
   "source": [
    "<div style=\"font-family: 'Arial', sans-serif; font-size: 20px; color: #ffffff; background-color: #2d2d2d; padding: 25px; border: 3px solid #555555; border-radius: 15px; box-shadow: 0 6px 15px rgba(0, 0, 0, 0.4); margin-bottom: 25px;\">\n",
    "<center>\n",
    "  <span style=\"color:#4682B4; font-size:22px; font-weight: bold; padding: 5px;\">Create a DataFrame of cosine similarities for better visualization</span>\n",
    "</center>\n",
    "</div>"
   ]
  },
  {
   "cell_type": "code",
   "execution_count": 8,
   "id": "bd8500d6-0c1e-41c5-abf3-e3ee368e48dc",
   "metadata": {},
   "outputs": [],
   "source": [
    "cos_sim_df = pd.DataFrame(cos_sim, index=df['Document'], columns=df['Document'])"
   ]
  },
  {
   "cell_type": "code",
   "execution_count": 9,
   "id": "0cd27567-07f5-4fda-80cf-172c3e88c0e2",
   "metadata": {},
   "outputs": [
    {
     "data": {
      "text/html": [
       "<div>\n",
       "<style scoped>\n",
       "    .dataframe tbody tr th:only-of-type {\n",
       "        vertical-align: middle;\n",
       "    }\n",
       "\n",
       "    .dataframe tbody tr th {\n",
       "        vertical-align: top;\n",
       "    }\n",
       "\n",
       "    .dataframe thead th {\n",
       "        text-align: right;\n",
       "    }\n",
       "</style>\n",
       "<table border=\"1\" class=\"dataframe\">\n",
       "  <thead>\n",
       "    <tr style=\"text-align: right;\">\n",
       "      <th>Document</th>\n",
       "      <th>Document1</th>\n",
       "      <th>Document2</th>\n",
       "      <th>Document3</th>\n",
       "      <th>Document4</th>\n",
       "    </tr>\n",
       "    <tr>\n",
       "      <th>Document</th>\n",
       "      <th></th>\n",
       "      <th></th>\n",
       "      <th></th>\n",
       "      <th></th>\n",
       "    </tr>\n",
       "  </thead>\n",
       "  <tbody>\n",
       "    <tr>\n",
       "      <th>Document1</th>\n",
       "      <td>1.000000</td>\n",
       "      <td>0.935601</td>\n",
       "      <td>0.155523</td>\n",
       "      <td>0.070799</td>\n",
       "    </tr>\n",
       "    <tr>\n",
       "      <th>Document2</th>\n",
       "      <td>0.935601</td>\n",
       "      <td>1.000000</td>\n",
       "      <td>0.122226</td>\n",
       "      <td>0.166924</td>\n",
       "    </tr>\n",
       "    <tr>\n",
       "      <th>Document3</th>\n",
       "      <td>0.155523</td>\n",
       "      <td>0.122226</td>\n",
       "      <td>1.000000</td>\n",
       "      <td>0.231229</td>\n",
       "    </tr>\n",
       "    <tr>\n",
       "      <th>Document4</th>\n",
       "      <td>0.070799</td>\n",
       "      <td>0.166924</td>\n",
       "      <td>0.231229</td>\n",
       "      <td>1.000000</td>\n",
       "    </tr>\n",
       "  </tbody>\n",
       "</table>\n",
       "</div>"
      ],
      "text/plain": [
       "Document   Document1  Document2  Document3  Document4\n",
       "Document                                             \n",
       "Document1   1.000000   0.935601   0.155523   0.070799\n",
       "Document2   0.935601   1.000000   0.122226   0.166924\n",
       "Document3   0.155523   0.122226   1.000000   0.231229\n",
       "Document4   0.070799   0.166924   0.231229   1.000000"
      ]
     },
     "execution_count": 9,
     "metadata": {},
     "output_type": "execute_result"
    }
   ],
   "source": [
    "cos_sim_df"
   ]
  },
  {
   "cell_type": "markdown",
   "id": "6f82513d-13e1-4815-92f0-c527e170c3d3",
   "metadata": {},
   "source": [
    "<div style=\"font-family: 'Arial', sans-serif; font-size: 20px; color: #ffffff; background-color: #2d2d2d; padding: 25px; border: 3px solid #555555; border-radius: 15px; box-shadow: 0 6px 15px rgba(0, 0, 0, 0.4); margin-bottom: 25px;\">\n",
    "    <strong style=\"color: #ffcc00;\">Cosine Similarity Results</strong><br><br>\n",
    "    <span style=\"color: #cccccc;\">Here are the cosine similarity values between the documents:</span><br><br>\n",
    "    <strong style=\"color: #ffcc00;\">Document1</strong>:<br>\n",
    "    <span style=\"color: #cccccc;\">- Similarity with Document2: 0.9356 (High)</span><br>\n",
    "    <span style=\"color: #cccccc;\">- Similarity with Document3: 0.1555 (Low)</span><br>\n",
    "    <span style=\"color: #cccccc;\">- Similarity with Document4: 0.0708 (Very Low)</span><br><br>\n",
    "    <strong style=\"color: #ffcc00;\">Document2</strong>:<br>\n",
    "    <span style=\"color: #cccccc;\">- Similarity with Document1: 0.9356 (High)</span><br>\n",
    "    <span style=\"color: #cccccc;\">- Similarity with Document3: 0.1222 (Very Low)</span><br>\n",
    "    <span style=\"color: #cccccc;\">- Similarity with Document4: 0.1669 (Low)</span><br><br>\n",
    "    <strong style=\"color: #ffcc00;\">Document3</strong>:<br>\n",
    "    <span style=\"color: #cccccc;\">- Similarity with Document1: 0.1555 (Low)</span><br>\n",
    "    <span style=\"color: #cccccc;\">- Similarity with Document2: 0.1222 (Very Low)</span><br>\n",
    "    <span style=\"color: #cccccc;\">- Similarity with Document4: 0.2312 (Low)</span><br><br>\n",
    "    <strong style=\"color: #ffcc00;\">Document4</strong>:<br>\n",
    "    <span style=\"color: #cccccc;\">- Similarity with Document1: 0.0708 (Very Low)</span><br>\n",
    "    <span style=\"color: #cccccc;\">- Similarity with Document2: 0.1669 (Low)</span><br>\n",
    "    <span style=\"color: #cccccc;\">- Similarity with Document3: 0.2312 (Low)</span><br><br>\n",
    "</div>\n"
   ]
  }
 ],
 "metadata": {
  "kernelspec": {
   "display_name": "Python 3 (ipykernel)",
   "language": "python",
   "name": "python3"
  },
  "language_info": {
   "codemirror_mode": {
    "name": "ipython",
    "version": 3
   },
   "file_extension": ".py",
   "mimetype": "text/x-python",
   "name": "python",
   "nbconvert_exporter": "python",
   "pygments_lexer": "ipython3",
   "version": "3.12.4"
  }
 },
 "nbformat": 4,
 "nbformat_minor": 5
}
