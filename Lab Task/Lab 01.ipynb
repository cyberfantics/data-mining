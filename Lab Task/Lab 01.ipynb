{
 "cells": [
  {
   "cell_type": "markdown",
   "id": "5332e783-ab2c-44ab-ac7a-49164a0acce4",
   "metadata": {},
   "source": [
    "<div style=\"font-family: 'Arial', sans-serif; font-size: 48px; font-weight: bold; text-align: center; color: #ffcc00; background-color: #2a2a2a; padding: 30px; border: 3px solid #444; border-radius: 15px; box-shadow: 0 4px 10px rgba(0, 0, 0, 0.3); margin-bottom: 20px;\">\n",
    "    Data Mining\n",
    "</div>\n",
    "\n",
    "<div style=\"font-family: 'Arial', sans-serif; font-size: 48px; font-weight: bold; text-align: center; color: #ff9900; background-color: #333333; padding: 20px; border: 3px solid #444; border-radius: 15px; box-shadow: 0 4px 10px rgba(0, 0, 0, 0.3); margin-bottom: 20px;\">\n",
    "    Lab 01\n",
    "</div>\n",
    "\n",
    "<div style=\"font-family: 'Arial', sans-serif; font-size: 48px; font-weight: bold; text-align: center; color: #ff6600; background-color: #1c1c1c; padding: 20px; border: 3px solid #444; border-radius: 15px; box-shadow: 0 4px 10px rgba(0, 0, 0, 0.3); margin-bottom: 20px;\">\n",
    "    Syed Mansoor ul Hassan Bukhari\n",
    "</div>\n",
    "\n",
    "<div style=\"font-family: 'Arial', sans-serif; font-size: 48px; font-weight: bold; text-align: center; color: #ffcc00; background-color: #222222; padding: 20px; border: 3px solid #444; border-radius: 15px; box-shadow: 0 4px 10px rgba(0, 0, 0, 0.3); margin-bottom: 20px;\">\n",
    "    BSAI - VII\n",
    "</div>\n",
    "\n",
    "<div style=\"font-family: 'Arial', sans-serif; font-size: 48px; font-weight: bold; text-align: center; color: #ff3300; background-color: #1c1c1c; padding: 20px; border: 3px solid #444; border-radius: 15px; box-shadow: 0 4px 10px rgba(0, 0, 0, 0.3);\">\n",
    "    2021-25\n",
    "</div>\n",
    "\n",
    "<div style=\"font-family: 'Arial', sans-serif; font-size: 48px; font-weight: bold; text-align: center; color: #3399ff; background-color: #1c1c1c; padding: 20px; border: 3px solid #444; border-radius: 15px; box-shadow: 0 4px 10px rgba(0, 0, 0, 0.3);\">\n",
    "    <span style=\"position: relative; top: -10px;\">05</span> Nov, 2024\n",
    "</div>\n"
   ]
  },
  {
   "cell_type": "markdown",
   "id": "8ed82543-3b97-4c63-bbfd-9c9c82ce08ef",
   "metadata": {},
   "source": [
    "<div style=\"font-family: 'Arial', sans-serif; font-size: 20px; text-align: left; color: #ffffff; background-color: #2d2d2d; padding: 25px; border: 3px solid #555555; border-radius: 15px; box-shadow: 0 6px 15px rgba(0, 0, 0, 0.4); margin-bottom: 25px;\">\r\n",
    "    <strong style=\"color: #ffcc00;\">Question 01: </strong>\r\n",
    "    <span style=\"color: #cccccc;\">Write a Python program to create an array of 5 integers and display the array items.</span>\r\n",
    "</div>\r\n"
   ]
  },
  {
   "cell_type": "code",
   "execution_count": 1,
   "id": "a96d7d8c-4137-4430-a470-70c16a1059c9",
   "metadata": {},
   "outputs": [],
   "source": [
    "import numpy as np"
   ]
  },
  {
   "cell_type": "code",
   "execution_count": 2,
   "id": "beebf52c-81ae-4ac1-8e83-4c9aa596e8e8",
   "metadata": {},
   "outputs": [],
   "source": [
    "a = np.array([4,5,6,7,8])"
   ]
  },
  {
   "cell_type": "code",
   "execution_count": 3,
   "id": "620a18ac-e9a6-4de4-82e1-7c05f19f6160",
   "metadata": {},
   "outputs": [
    {
     "data": {
      "text/plain": [
       "5"
      ]
     },
     "execution_count": 3,
     "metadata": {},
     "output_type": "execute_result"
    }
   ],
   "source": [
    "a[1]"
   ]
  },
  {
   "cell_type": "markdown",
   "id": "451b2656-bc4d-4b7b-88a8-e9d8c2f59850",
   "metadata": {},
   "source": [
    "<div style=\"font-family: 'Arial', sans-serif; font-size: 20px; text-align: left; color: #ffffff; background-color: #2d2d2d; padding: 25px; border: 3px solid #555555; border-radius: 15px; box-shadow: 0 6px 15px rgba(0, 0, 0, 0.4); margin-bottom: 25px;\">\r\n",
    "    <strong style=\"color: #ffcc00;\">Question 02: </strong>\r\n",
    "    <span style=\"color: #cccccc;\">Write a Python program to convert an array to an ordinary list with the same elements.</span>\r\n",
    "</dv>\r\n",
    " \r\n"
   ]
  },
  {
   "cell_type": "code",
   "execution_count": 4,
   "id": "d3c48e81-bbd0-4389-b55a-a8d8d8b260d5",
   "metadata": {},
   "outputs": [],
   "source": [
    "a = np.array([5,6,7,8,9])"
   ]
  },
  {
   "cell_type": "code",
   "execution_count": 5,
   "id": "2cb9f847-7e15-44f7-8d64-fac7acfa4a8e",
   "metadata": {},
   "outputs": [
    {
     "data": {
      "text/plain": [
       "numpy.ndarray"
      ]
     },
     "execution_count": 5,
     "metadata": {},
     "output_type": "execute_result"
    }
   ],
   "source": [
    "type(a)"
   ]
  },
  {
   "cell_type": "code",
   "execution_count": 6,
   "id": "0f9bbf2b-fbc7-4488-8b03-ea6fd3825b96",
   "metadata": {},
   "outputs": [],
   "source": [
    "a = list(a)"
   ]
  },
  {
   "cell_type": "code",
   "execution_count": 7,
   "id": "91f75734-9008-44ea-8c07-0dfcd46e6653",
   "metadata": {},
   "outputs": [
    {
     "data": {
      "text/plain": [
       "list"
      ]
     },
     "execution_count": 7,
     "metadata": {},
     "output_type": "execute_result"
    }
   ],
   "source": [
    "type(a)"
   ]
  },
  {
   "cell_type": "markdown",
   "id": "e139c3a0-e36e-4a9a-bf04-796ba9c75028",
   "metadata": {},
   "source": [
    "<div style=\"font-family: 'Arial', sans-serif; font-size: 20px; text-align: left; color: #ffffff; background-color: #2d2d2d; padding: 25px; border: 3px solid #555555; border-radius: 15px; box-shadow: 0 6px 15px rgba(0, 0, 0, 0.4); margin-bottom: 25px;\">\r\n",
    "    <strong style=\"color: #ffcc00;\">Question 03: </strong>\r\n",
    "    <span style=\"color: #cccccc;\">Write a Python program to find out if a given array of integers contains any duplicate elements. Return true if any value appears twice in the array, and return false if every element is distinct.</span>\r\n",
    "</div>\r\n"
   ]
  },
  {
   "cell_type": "code",
   "execution_count": 8,
   "id": "d7705642-010a-404e-9a3b-d4a8d0299469",
   "metadata": {},
   "outputs": [],
   "source": [
    "def contains_duplicate(nums):\n",
    "    # Create an empty set to track unique elements\n",
    "    seen = set()\n",
    "    \n",
    "    # Loop through each element in the array\n",
    "    for num in nums:\n",
    "        # If the element is already in the set, we found a duplicate\n",
    "        if num in seen:\n",
    "            return True\n",
    "        # Otherwise, add the element to the set\n",
    "        seen.add(num)\n",
    "    \n",
    "    # If no duplicates are found, return False\n",
    "    return False"
   ]
  },
  {
   "cell_type": "code",
   "execution_count": 9,
   "id": "4e72e96e-01ec-4a02-9c3a-37dba7623b80",
   "metadata": {},
   "outputs": [
    {
     "name": "stdout",
     "output_type": "stream",
     "text": [
      "False\n"
     ]
    }
   ],
   "source": [
    "arr = [1, 2, 3, 4, 5]\n",
    "print(contains_duplicate(arr))"
   ]
  },
  {
   "cell_type": "code",
   "execution_count": 10,
   "id": "d6e1ad21-c7b2-4993-8c89-6f2cc28368cb",
   "metadata": {},
   "outputs": [
    {
     "name": "stdout",
     "output_type": "stream",
     "text": [
      "True\n"
     ]
    }
   ],
   "source": [
    "arr2 = [1, 2, 3, 4, 5, 3]\n",
    "print(contains_duplicate(arr2)) "
   ]
  },
  {
   "cell_type": "markdown",
   "id": "d0bb4e9e-1d9b-4c96-bed3-72b76f14110d",
   "metadata": {},
   "source": [
    "<div style=\"font-family: 'Arial', sans-serif; font-size: 20px; text-align: left; color: #ffffff; background-color: #2d2d2d; padding: 25px; border: 3px solid #555555; border-radius: 15px; box-shadow: 0 6px 15px rgba(0, 0, 0, 0.4); margin-bottom: 25px;\">\r\n",
    "    <strong style=\"color: #ffcc00;\">Question 04: </strong>\r\n",
    "    <span style=\"color: #cccccc;\">Write a Python program that removes all duplicate elements from an array and returns a new array.</span>\r\n",
    "</dv>\r\n"
   ]
  },
  {
   "cell_type": "code",
   "execution_count": 11,
   "id": "0c736018-3d13-44dc-bab9-ff81c5fe3966",
   "metadata": {},
   "outputs": [],
   "source": [
    "def remove_duplicate(nums):\n",
    "    seen = set()\n",
    "    for num in nums:\n",
    "        if num in seen:\n",
    "            pass\n",
    "        seen.add(num)\n",
    "    return list(seen)"
   ]
  },
  {
   "cell_type": "code",
   "execution_count": 12,
   "id": "8f937dc5-2330-4b9e-9277-c5be8196b256",
   "metadata": {},
   "outputs": [
    {
     "data": {
      "text/plain": [
       "[1, 2, 3, 4, 5]"
      ]
     },
     "execution_count": 12,
     "metadata": {},
     "output_type": "execute_result"
    }
   ],
   "source": [
    "a = [1,2,3,3,4,5]\n",
    "remove_duplicate(a)"
   ]
  },
  {
   "cell_type": "code",
   "execution_count": 13,
   "id": "e4dbf6f7-fea0-40e3-bd04-cde903dd02f2",
   "metadata": {},
   "outputs": [
    {
     "data": {
      "text/plain": [
       "[4, 5, 6, 7]"
      ]
     },
     "execution_count": 13,
     "metadata": {},
     "output_type": "execute_result"
    }
   ],
   "source": [
    "a = [4,5,6,7]\n",
    "remove_duplicate(a)"
   ]
  },
  {
   "cell_type": "markdown",
   "id": "bef52849-03d9-49ff-98c4-4688a09a9477",
   "metadata": {},
   "source": [
    "<div style=\"font-family: 'Arial', sans-serif; font-size: 20px; text-align: left; color: #ffffff; background-color: #2d2d2d; padding: 25px; border: 3px solid #555555; border-radius: 15px; box-shadow: 0 6px 15px rgba(0, 0, 0, 0.4); margin-bottom: 25px;\">\r\n",
    "    <strong style=\"color: #ffcc00;\">Question 05: </strong>\r\n",
    "    <span style=\"color: #cccccc;\">Write a Python program to demonstrate matrix operations.</span>\r\n",
    "</dv>\r\n"
   ]
  },
  {
   "cell_type": "code",
   "execution_count": 14,
   "id": "8b315bc9-ba56-4d39-9369-3fbee5bd8e10",
   "metadata": {},
   "outputs": [],
   "source": [
    "matrix_A = [\n",
    "    [1, 2, 3],\n",
    "    [4, 5, 6],\n",
    "    [7, 8, 9]\n",
    "]\n",
    "\n",
    "matrix_B = [\n",
    "    [9, 8, 7],\n",
    "    [6, 5, 4],\n",
    "    [3, 2, 1]\n",
    "]"
   ]
  },
  {
   "cell_type": "code",
   "execution_count": 15,
   "id": "0a0da2d5-0e65-42d7-a140-9968949a73dd",
   "metadata": {},
   "outputs": [],
   "source": [
    "# Matrix Addition\n",
    "def matrix_addition(A, B):\n",
    "    if len(A) != len(B) or len(A[0]) != len(B[0]):\n",
    "        raise ValueError(\"Matrices must have the same dimensions for addition\")\n",
    "    result = []\n",
    "    for i in range(len(A)):\n",
    "        row = []\n",
    "        for j in range(len(A[0])):\n",
    "            row.append(A[i][j] + B[i][j])\n",
    "        result.append(row)\n",
    "    return result\n",
    "\n",
    "# Matrix Subtraction\n",
    "def matrix_subtraction(A, B):\n",
    "    if len(A) != len(B) or len(A[0]) != len(B[0]):\n",
    "        raise ValueError(\"Matrices must have the same dimensions for subtraction\")\n",
    "    result = []\n",
    "    for i in range(len(A)):\n",
    "        row = []\n",
    "        for j in range(len(A[0])):\n",
    "            row.append(A[i][j] - B[i][j])\n",
    "        result.append(row)\n",
    "    return result\n",
    "\n",
    "# Matrix Multiplication\n",
    "def matrix_multiplication(A, B):\n",
    "    if len(A[0]) != len(B):  # Number of columns in A must be equal to number of rows in B\n",
    "        raise ValueError(\"Number of columns in A must be equal to number of rows in B for multiplication\")\n",
    "    result = []\n",
    "    for i in range(len(A)):  # Iterate over rows of A\n",
    "        row = []\n",
    "        for j in range(len(B[0])):  # Iterate over columns of B\n",
    "            value = 0\n",
    "            for k in range(len(B)):  # Sum over the columns of A and rows of B\n",
    "                value += A[i][k] * B[k][j]\n",
    "            row.append(value)\n",
    "        result.append(row)\n",
    "    return result\n",
    "\n",
    "# Matrix Transposition\n",
    "def matrix_transpose(A):\n",
    "    result = []\n",
    "    for j in range(len(A[0])):\n",
    "        row = []\n",
    "        for i in range(len(A)):\n",
    "            row.append(A[i][j])\n",
    "        result.append(row)\n",
    "    return result"
   ]
  },
  {
   "cell_type": "markdown",
   "id": "58dc51bb-1608-4e5a-9247-05909ed072d6",
   "metadata": {},
   "source": [
    "<div style=\"font-family: 'Arial', sans-serif; font-size: 20px; text-align: center; color: #00bcd4; background-color: #1c1c1c; padding: 25px; border: 3px solid #333333; border-radius: 15px; box-shadow: 0 6px 15px rgba(0, 0, 0, 0.4); margin-bottom: 25px;\">\n",
    "    <span style=\"color: #00bcd4;\"><strong>Showcasing The Functionality</strong></span>\n",
    "</div>"
   ]
  },
  {
   "cell_type": "code",
   "execution_count": 16,
   "id": "c83cc44f-01c5-4fce-be4e-7d4c7a999729",
   "metadata": {},
   "outputs": [
    {
     "name": "stdout",
     "output_type": "stream",
     "text": [
      "Matrix A:\n",
      "[1, 2, 3]\n",
      "[4, 5, 6]\n",
      "[7, 8, 9]\n",
      "Matrix B:\n",
      "[9, 8, 7]\n",
      "[6, 5, 4]\n",
      "[3, 2, 1]\n",
      "\n",
      "Matrix A + Matrix B:\n",
      "[10, 10, 10]\n",
      "[10, 10, 10]\n",
      "[10, 10, 10]\n"
     ]
    }
   ],
   "source": [
    "# Addition\n",
    "print(\"Matrix A:\")\n",
    "for row in matrix_A:\n",
    "    print(row)\n",
    "\n",
    "print(\"Matrix B:\")\n",
    "for row in matrix_B:\n",
    "    print(row)\n",
    "\n",
    "print(\"\\nMatrix A + Matrix B:\")\n",
    "result_add = matrix_addition(matrix_A, matrix_B)\n",
    "for row in result_add:\n",
    "    print(row)"
   ]
  },
  {
   "cell_type": "code",
   "execution_count": 17,
   "id": "03275b03-c76a-484c-af7f-d0c93c61d48c",
   "metadata": {},
   "outputs": [
    {
     "name": "stdout",
     "output_type": "stream",
     "text": [
      "\n",
      "Matrix A - Matrix B:\n",
      "[-8, -6, -4]\n",
      "[-2, 0, 2]\n",
      "[4, 6, 8]\n"
     ]
    }
   ],
   "source": [
    "# Subtraction\n",
    "print(\"\\nMatrix A - Matrix B:\")\n",
    "result_sub = matrix_subtraction(matrix_A, matrix_B)\n",
    "for row in result_sub:\n",
    "    print(row)"
   ]
  },
  {
   "cell_type": "code",
   "execution_count": 18,
   "id": "cf9eae8f-4d4b-4505-b95e-91c99052e79a",
   "metadata": {},
   "outputs": [
    {
     "name": "stdout",
     "output_type": "stream",
     "text": [
      "\n",
      "Matrix A * Matrix B:\n",
      "[30, 24, 18]\n",
      "[84, 69, 54]\n",
      "[138, 114, 90]\n"
     ]
    }
   ],
   "source": [
    "# Multiplication\n",
    "print(\"\\nMatrix A * Matrix B:\")\n",
    "result_mul = matrix_multiplication(matrix_A, matrix_B)\n",
    "for row in result_mul:\n",
    "    print(row)\n"
   ]
  },
  {
   "cell_type": "code",
   "execution_count": 19,
   "id": "90e529c5-dca7-4907-8b20-acf0fa314cf7",
   "metadata": {},
   "outputs": [
    {
     "name": "stdout",
     "output_type": "stream",
     "text": [
      "\n",
      "Transpose of Matrix A:\n",
      "[1, 4, 7]\n",
      "[2, 5, 8]\n",
      "[3, 6, 9]\n"
     ]
    }
   ],
   "source": [
    "# Transposition of Matrix A\n",
    "print(\"\\nTranspose of Matrix A:\")\n",
    "result_transpose = matrix_transpose(matrix_A)\n",
    "for row in result_transpose:\n",
    "    print(row)\n"
   ]
  },
  {
   "cell_type": "markdown",
   "id": "5a8ffd74-ea28-43a0-9118-93e0e7f3faa0",
   "metadata": {},
   "source": [
    "<div style=\"font-family: 'Arial', sans-serif; font-size: 20px; text-align: center; color: #00bcd4; background-color: #1c1c1c; padding: 25px; border: 3px solid #333333; border-radius: 15px; box-shadow: 0 6px 15px rgba(0, 0, 0, 0.4); margin-bottom: 25px;\">\n",
    "    <span style=\"color: #00bcd4;\"><strong>Alternatively, We Can Use NumPy For Matrix Operations To Simplify</strong></span>\n",
    "</div>"
   ]
  },
  {
   "cell_type": "code",
   "execution_count": 20,
   "id": "3fd5483b-9801-4627-8a88-379d3155f699",
   "metadata": {},
   "outputs": [
    {
     "name": "stdout",
     "output_type": "stream",
     "text": [
      "\n",
      "Using NumPy for matrix addition:\n",
      "[[10 10 10]\n",
      " [10 10 10]\n",
      " [10 10 10]]\n",
      "\n",
      "Using NumPy for matrix multiplication:\n",
      "[[ 30  24  18]\n",
      " [ 84  69  54]\n",
      " [138 114  90]]\n"
     ]
    }
   ],
   "source": [
    "print(\"\\nUsing NumPy for matrix addition:\")\n",
    "np_A = np.array(matrix_A)\n",
    "np_B = np.array(matrix_B)\n",
    "\n",
    "result_np_add = np_A + np_B\n",
    "print(result_np_add)\n",
    "\n",
    "print(\"\\nUsing NumPy for matrix multiplication:\")\n",
    "result_np_mul = np.dot(np_A, np_B)\n",
    "print(result_np_mul)\n"
   ]
  },
  {
   "cell_type": "markdown",
   "id": "1ff9f74f-4099-4d6b-b070-f67fbef82373",
   "metadata": {},
   "source": [
    "<div style=\"font-family: 'Arial', sans-serif; font-size: 20px; text-align: left; color: #ffffff; background-color: #2d2d2d; padding: 25px; border: 3px solid #555555; border-radius: 15px; box-shadow: 0 6px 15px rgba(0, 0, 0, 0.4); margin-bottom: 25px;\">\r\n",
    "    <strong style=\"color: #ffcc00;\">Question 06: </strong>\r\n",
    "    <span style=\"color: #cccccc;\">Write a Python program to create a pandas DataFrame.</span>\r\n",
    "</dv>\r\n"
   ]
  },
  {
   "cell_type": "code",
   "execution_count": 21,
   "id": "d58b1a3a-bc9e-4978-93fb-ac3d457ab32d",
   "metadata": {},
   "outputs": [],
   "source": [
    "import pandas as pd"
   ]
  },
  {
   "cell_type": "code",
   "execution_count": 22,
   "id": "e07cc7b0-cb24-4344-ab21-992eb7ccb726",
   "metadata": {},
   "outputs": [],
   "source": [
    "# Data as a dictionary\n",
    "data = {\n",
    "    'Name': ['Ahmed', 'Fatimah', 'Ali', 'Amina', 'Omar', 'Zainab', 'Ibrahim'],\n",
    "    'Gender': ['Male', 'Female', 'Male', 'Female', 'Male', 'Female', 'Male']\n",
    "}"
   ]
  },
  {
   "cell_type": "code",
   "execution_count": 23,
   "id": "9b04da85-f1ad-4a21-ab0c-27be60f0b04c",
   "metadata": {},
   "outputs": [],
   "source": [
    "# Create DataFrame\n",
    "df = pd.DataFrame(data)"
   ]
  },
  {
   "cell_type": "code",
   "execution_count": 24,
   "id": "d1f56ab8-156c-47a5-8972-0314993a5429",
   "metadata": {},
   "outputs": [
    {
     "data": {
      "text/html": [
       "<div>\n",
       "<style scoped>\n",
       "    .dataframe tbody tr th:only-of-type {\n",
       "        vertical-align: middle;\n",
       "    }\n",
       "\n",
       "    .dataframe tbody tr th {\n",
       "        vertical-align: top;\n",
       "    }\n",
       "\n",
       "    .dataframe thead th {\n",
       "        text-align: right;\n",
       "    }\n",
       "</style>\n",
       "<table border=\"1\" class=\"dataframe\">\n",
       "  <thead>\n",
       "    <tr style=\"text-align: right;\">\n",
       "      <th></th>\n",
       "      <th>Name</th>\n",
       "      <th>Gender</th>\n",
       "    </tr>\n",
       "  </thead>\n",
       "  <tbody>\n",
       "    <tr>\n",
       "      <th>0</th>\n",
       "      <td>Ahmed</td>\n",
       "      <td>Male</td>\n",
       "    </tr>\n",
       "    <tr>\n",
       "      <th>1</th>\n",
       "      <td>Fatimah</td>\n",
       "      <td>Female</td>\n",
       "    </tr>\n",
       "    <tr>\n",
       "      <th>2</th>\n",
       "      <td>Ali</td>\n",
       "      <td>Male</td>\n",
       "    </tr>\n",
       "    <tr>\n",
       "      <th>3</th>\n",
       "      <td>Amina</td>\n",
       "      <td>Female</td>\n",
       "    </tr>\n",
       "    <tr>\n",
       "      <th>4</th>\n",
       "      <td>Omar</td>\n",
       "      <td>Male</td>\n",
       "    </tr>\n",
       "  </tbody>\n",
       "</table>\n",
       "</div>"
      ],
      "text/plain": [
       "      Name  Gender\n",
       "0    Ahmed    Male\n",
       "1  Fatimah  Female\n",
       "2      Ali    Male\n",
       "3    Amina  Female\n",
       "4     Omar    Male"
      ]
     },
     "execution_count": 24,
     "metadata": {},
     "output_type": "execute_result"
    }
   ],
   "source": [
    "df.head()"
   ]
  },
  {
   "cell_type": "markdown",
   "id": "2c729693-ecee-4fdc-b300-143d70e5f63f",
   "metadata": {},
   "source": [
    "<div style=\"font-family: 'Arial', sans-serif; font-size: 20px; text-align: left; color: #ffffff; background-color: #2d2d2d; padding: 25px; border: 3px solid #555555; border-radius: 15px; box-shadow: 0 6px 15px rgba(0, 0, 0, 0.4); margin-bottom: 25px;\">\r\n",
    "    <strong style=\"color: #ffcc00;\">Question 07: </strong>\r\n",
    "    <span style=\"color: #cccccc;\">Write a Python code to add data in a DataFrame.</span>\r\n",
    "</dv>\r\n"
   ]
  },
  {
   "cell_type": "code",
   "execution_count": 25,
   "id": "f800a9fa-26fd-4db4-b3b0-c04917622286",
   "metadata": {},
   "outputs": [],
   "source": [
    "# Data as a dictionary\n",
    "data = {\n",
    "    'Name': ['Ahmed', 'Fatimah', 'Ali', 'Amina', 'Omar', 'Zainab', 'Ibrahim'],\n",
    "    'Gender': ['Male', 'Female', 'Male', 'Female', 'Male', 'Female', 'Male']\n",
    "}"
   ]
  },
  {
   "cell_type": "code",
   "execution_count": 26,
   "id": "913a9bde-c50e-43f3-968f-2ef2c96db6aa",
   "metadata": {},
   "outputs": [],
   "source": [
    "df = pd.DataFrame(data)\n",
    "new_r = pd.DataFrame({\n",
    "    'Name':['Mansoor'],\n",
    "    'Gender': ['Male']\n",
    "})"
   ]
  },
  {
   "cell_type": "code",
   "execution_count": 27,
   "id": "517c68c1-7e3d-48d5-8022-49cc9dc8a1e5",
   "metadata": {},
   "outputs": [],
   "source": [
    "df = pd.concat([df, new_r], ignore_index=True)"
   ]
  },
  {
   "cell_type": "code",
   "execution_count": 28,
   "id": "809e5fcd-a0bc-40ca-a49c-90a4fea6a145",
   "metadata": {},
   "outputs": [
    {
     "data": {
      "text/html": [
       "<div>\n",
       "<style scoped>\n",
       "    .dataframe tbody tr th:only-of-type {\n",
       "        vertical-align: middle;\n",
       "    }\n",
       "\n",
       "    .dataframe tbody tr th {\n",
       "        vertical-align: top;\n",
       "    }\n",
       "\n",
       "    .dataframe thead th {\n",
       "        text-align: right;\n",
       "    }\n",
       "</style>\n",
       "<table border=\"1\" class=\"dataframe\">\n",
       "  <thead>\n",
       "    <tr style=\"text-align: right;\">\n",
       "      <th></th>\n",
       "      <th>Name</th>\n",
       "      <th>Gender</th>\n",
       "    </tr>\n",
       "  </thead>\n",
       "  <tbody>\n",
       "    <tr>\n",
       "      <th>3</th>\n",
       "      <td>Amina</td>\n",
       "      <td>Female</td>\n",
       "    </tr>\n",
       "    <tr>\n",
       "      <th>4</th>\n",
       "      <td>Omar</td>\n",
       "      <td>Male</td>\n",
       "    </tr>\n",
       "    <tr>\n",
       "      <th>5</th>\n",
       "      <td>Zainab</td>\n",
       "      <td>Female</td>\n",
       "    </tr>\n",
       "    <tr>\n",
       "      <th>6</th>\n",
       "      <td>Ibrahim</td>\n",
       "      <td>Male</td>\n",
       "    </tr>\n",
       "    <tr>\n",
       "      <th>7</th>\n",
       "      <td>Mansoor</td>\n",
       "      <td>Male</td>\n",
       "    </tr>\n",
       "  </tbody>\n",
       "</table>\n",
       "</div>"
      ],
      "text/plain": [
       "      Name  Gender\n",
       "3    Amina  Female\n",
       "4     Omar    Male\n",
       "5   Zainab  Female\n",
       "6  Ibrahim    Male\n",
       "7  Mansoor    Male"
      ]
     },
     "execution_count": 28,
     "metadata": {},
     "output_type": "execute_result"
    }
   ],
   "source": [
    "df.tail()"
   ]
  },
  {
   "cell_type": "markdown",
   "id": "b5b41ce9-9968-4625-803e-d25b2f4354a4",
   "metadata": {},
   "source": [
    "<div style=\"font-family: 'Arial', sans-serif; font-size: 20px; text-align: left; color: #ffffff; background-color: #2d2d2d; padding: 25px; border: 3px solid #555555; border-radius: 15px; box-shadow: 0 6px 15px rgba(0, 0, 0, 0.4); margin-bottom: 25px;\">\r\n",
    "    <strong style=\"color: #ffcc00;\">Question 08: </strong>\r\n",
    "    <span style=\"color: #cccccc;\">Write a Python program to drop a column from a DataFrame.</span>\r\n",
    "</dv>\r\n"
   ]
  },
  {
   "cell_type": "code",
   "execution_count": 29,
   "id": "5192e217-2ccb-4f53-a38a-6851e8fe73e4",
   "metadata": {},
   "outputs": [],
   "source": [
    "df.drop(columns=['Gender'], inplace=True, axis=1)"
   ]
  },
  {
   "cell_type": "code",
   "execution_count": 30,
   "id": "f47b144a-bdcf-4155-8789-f95999bcaaa2",
   "metadata": {},
   "outputs": [
    {
     "data": {
      "text/html": [
       "<div>\n",
       "<style scoped>\n",
       "    .dataframe tbody tr th:only-of-type {\n",
       "        vertical-align: middle;\n",
       "    }\n",
       "\n",
       "    .dataframe tbody tr th {\n",
       "        vertical-align: top;\n",
       "    }\n",
       "\n",
       "    .dataframe thead th {\n",
       "        text-align: right;\n",
       "    }\n",
       "</style>\n",
       "<table border=\"1\" class=\"dataframe\">\n",
       "  <thead>\n",
       "    <tr style=\"text-align: right;\">\n",
       "      <th></th>\n",
       "      <th>Name</th>\n",
       "    </tr>\n",
       "  </thead>\n",
       "  <tbody>\n",
       "    <tr>\n",
       "      <th>0</th>\n",
       "      <td>Ahmed</td>\n",
       "    </tr>\n",
       "  </tbody>\n",
       "</table>\n",
       "</div>"
      ],
      "text/plain": [
       "    Name\n",
       "0  Ahmed"
      ]
     },
     "execution_count": 30,
     "metadata": {},
     "output_type": "execute_result"
    }
   ],
   "source": [
    "df.head(1)"
   ]
  },
  {
   "cell_type": "markdown",
   "id": "02bf7517-77b6-45a8-aa8f-a181a2019d86",
   "metadata": {},
   "source": [
    "<div style=\"font-family: 'Arial', sans-serif; font-size: 20px; text-align: left; color: #ffffff; background-color: #2d2d2d; padding: 25px; border: 3px solid #555555; border-radius: 15px; box-shadow: 0 6px 15px rgba(0, 0, 0, 0.4); margin-bottom: 25px;\">\r\n",
    "    <strong style=\"color: #ffcc00;\">Question 09: </strong>\r\n",
    "    <span style=\"color: #cccccc;\">Write a Python program to drop a row from a DataFrame.</span>\r\n",
    "</dv>\r\n"
   ]
  },
  {
   "cell_type": "code",
   "execution_count": 31,
   "id": "538d1cb1-f696-4c5c-86e6-4cc6db58d98a",
   "metadata": {},
   "outputs": [
    {
     "data": {
      "text/plain": [
       "(8, 1)"
      ]
     },
     "execution_count": 31,
     "metadata": {},
     "output_type": "execute_result"
    }
   ],
   "source": [
    "df.shape"
   ]
  },
  {
   "cell_type": "code",
   "execution_count": 32,
   "id": "9763da27-c694-4d47-afac-228d2bd17132",
   "metadata": {},
   "outputs": [],
   "source": [
    "df.drop(2, inplace=True)"
   ]
  },
  {
   "cell_type": "code",
   "execution_count": 33,
   "id": "a5e39b60-fa77-470d-a2b6-7c040accc918",
   "metadata": {},
   "outputs": [
    {
     "data": {
      "text/plain": [
       "(7, 1)"
      ]
     },
     "execution_count": 33,
     "metadata": {},
     "output_type": "execute_result"
    }
   ],
   "source": [
    "df.shape"
   ]
  }
 ],
 "metadata": {
  "kernelspec": {
   "display_name": "Python 3 (ipykernel)",
   "language": "python",
   "name": "python3"
  },
  "language_info": {
   "codemirror_mode": {
    "name": "ipython",
    "version": 3
   },
   "file_extension": ".py",
   "mimetype": "text/x-python",
   "name": "python",
   "nbconvert_exporter": "python",
   "pygments_lexer": "ipython3",
   "version": "3.12.4"
  }
 },
 "nbformat": 4,
 "nbformat_minor": 5
}
