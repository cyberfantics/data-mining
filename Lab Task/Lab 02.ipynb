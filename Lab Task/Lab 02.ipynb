{
 "cells": [
  {
   "cell_type": "markdown",
   "id": "a958aaef-8b15-4c23-bb50-8ff7a409d3d6",
   "metadata": {},
   "source": [
    "<div style=\"font-family: 'Arial', sans-serif; font-size: 48px; font-weight: bold; text-align: center; color: #ffcc00; background-color: #2a2a2a; padding: 30px; border: 3px solid #444; border-radius: 15px; box-shadow: 0 4px 10px rgba(0, 0, 0, 0.3); margin-bottom: 20px;\">\n",
    "    Data Mining\n",
    "</div>\n",
    "\n",
    "<div style=\"font-family: 'Arial', sans-serif; font-size: 48px; font-weight: bold; text-align: center; color: #ff9900; background-color: #333333; padding: 20px; border: 3px solid #444; border-radius: 15px; box-shadow: 0 4px 10px rgba(0, 0, 0, 0.3); margin-bottom: 20px;\">\n",
    "    Lab 02\n",
    "</div>\n",
    "\n",
    "<div style=\"font-family: 'Arial', sans-serif; font-size: 48px; font-weight: bold; text-align: center; color: #ff6600; background-color: #1c1c1c; padding: 20px; border: 3px solid #444; border-radius: 15px; box-shadow: 0 4px 10px rgba(0, 0, 0, 0.3); margin-bottom: 20px;\">\n",
    "    Syed Mansoor ul Hassan Bukhari\n",
    "</div>\n",
    "\n",
    "<div style=\"font-family: 'Arial', sans-serif; font-size: 48px; font-weight: bold; text-align: center; color: #ffcc00; background-color: #222222; padding: 20px; border: 3px solid #444; border-radius: 15px; box-shadow: 0 4px 10px rgba(0, 0, 0, 0.3); margin-bottom: 20px;\">\n",
    "    BSAI - VII\n",
    "</div>\n",
    "\n",
    "<div style=\"font-family: 'Arial', sans-serif; font-size: 48px; font-weight: bold; text-align: center; color: #ff3300; background-color: #1c1c1c; padding: 20px; border: 3px solid #444; border-radius: 15px; box-shadow: 0 4px 10px rgba(0, 0, 0, 0.3);\">\n",
    "    2021-25\n",
    "</div>\n",
    "\n",
    "<div style=\"font-family: 'Arial', sans-serif; font-size: 48px; font-weight: bold; text-align: center; color: #3399ff; background-color: #1c1c1c; padding: 20px; border: 3px solid #444; border-radius: 15px; box-shadow: 0 4px 10px rgba(0, 0, 0, 0.3);\">\n",
    "    <span style=\"position: relative; top: -10px;\">29<sup>nd</sup></span> Oct, 2024\n",
    "</div>\n"
   ]
  },
  {
   "cell_type": "markdown",
   "id": "b6a83bc0-c043-49ce-ba2b-d862e8c263ba",
   "metadata": {},
   "source": [
    "<div style=\"font-family: 'Arial', sans-serif; font-size: 20px; text-align: left; color: #ffffff; background-color: #2d2d2d; padding: 25px; border: 3px solid #555555; border-radius: 15px; box-shadow: 0 6px 15px rgba(0, 0, 0, 0.4); margin-bottom: 25px;\">\n",
    "    <strong style=\"color: #ffcc00;\">Question 01: </strong>\n",
    "    <span style=\"color: #cccccc;\">Create the following Data Matrix in Python.</span>\n",
    "</div>\n",
    "<img src=\"Pictures/Picture1.png\" />"
   ]
  },
  {
   "cell_type": "code",
   "execution_count": 1,
   "id": "5f051c78-0e19-4569-968b-9a7fed19f629",
   "metadata": {},
   "outputs": [],
   "source": [
    "# First we need to import pandas for creating DataFrame\n",
    "import pandas as pd"
   ]
  },
  {
   "cell_type": "code",
   "execution_count": 2,
   "id": "c5ed0c24-a912-437e-951f-1fb234912544",
   "metadata": {},
   "outputs": [],
   "source": [
    "# Create DataFrame\n",
    "df = pd.DataFrame({\"Object Identifier\":[1, 2, 3, 4],\n",
    "                   \"test-1 (nominal)\": ['Code A', 'Code B', 'Code C', 'Code A'],\n",
    "                   'test-2 (ordinal)': ['excellent', 'fair', 'good', 'excellent'],\n",
    "                   'test-3 (numeric)': [45, 22, 64, 28]})\n",
    "\n",
    "# Set 'Object Identifier' as the index\n",
    "df.set_index('Object Identifier', inplace=True)\n",
    "\n",
    "# Convert 'test-2 (ordinal)' to a categorical type with ordered categories\n",
    "df['test-2 (ordinal)'] = pd.Categorical(df['test-2 (ordinal)'], categories=['fair', 'good', 'excellent'], ordered=True)"
   ]
  },
  {
   "cell_type": "code",
   "execution_count": 3,
   "id": "d77bca3e-b286-4d6d-bdb6-0fe3119eeb1b",
   "metadata": {},
   "outputs": [
    {
     "data": {
      "text/html": [
       "<div>\n",
       "<style scoped>\n",
       "    .dataframe tbody tr th:only-of-type {\n",
       "        vertical-align: middle;\n",
       "    }\n",
       "\n",
       "    .dataframe tbody tr th {\n",
       "        vertical-align: top;\n",
       "    }\n",
       "\n",
       "    .dataframe thead th {\n",
       "        text-align: right;\n",
       "    }\n",
       "</style>\n",
       "<table border=\"1\" class=\"dataframe\">\n",
       "  <thead>\n",
       "    <tr style=\"text-align: right;\">\n",
       "      <th></th>\n",
       "      <th>test-1 (nominal)</th>\n",
       "      <th>test-2 (ordinal)</th>\n",
       "      <th>test-3 (numeric)</th>\n",
       "    </tr>\n",
       "    <tr>\n",
       "      <th>Object Identifier</th>\n",
       "      <th></th>\n",
       "      <th></th>\n",
       "      <th></th>\n",
       "    </tr>\n",
       "  </thead>\n",
       "  <tbody>\n",
       "    <tr>\n",
       "      <th>1</th>\n",
       "      <td>Code A</td>\n",
       "      <td>excellent</td>\n",
       "      <td>45</td>\n",
       "    </tr>\n",
       "    <tr>\n",
       "      <th>2</th>\n",
       "      <td>Code B</td>\n",
       "      <td>fair</td>\n",
       "      <td>22</td>\n",
       "    </tr>\n",
       "    <tr>\n",
       "      <th>3</th>\n",
       "      <td>Code C</td>\n",
       "      <td>good</td>\n",
       "      <td>64</td>\n",
       "    </tr>\n",
       "    <tr>\n",
       "      <th>4</th>\n",
       "      <td>Code A</td>\n",
       "      <td>excellent</td>\n",
       "      <td>28</td>\n",
       "    </tr>\n",
       "  </tbody>\n",
       "</table>\n",
       "</div>"
      ],
      "text/plain": [
       "                  test-1 (nominal) test-2 (ordinal)  test-3 (numeric)\n",
       "Object Identifier                                                    \n",
       "1                           Code A        excellent                45\n",
       "2                           Code B             fair                22\n",
       "3                           Code C             good                64\n",
       "4                           Code A        excellent                28"
      ]
     },
     "execution_count": 3,
     "metadata": {},
     "output_type": "execute_result"
    }
   ],
   "source": [
    "df"
   ]
  },
  {
   "cell_type": "code",
   "execution_count": 4,
   "id": "30f12354-2eca-4e74-8ecf-f51e809a223b",
   "metadata": {},
   "outputs": [
    {
     "data": {
      "text/plain": [
       "test-1 (nominal)      object\n",
       "test-2 (ordinal)    category\n",
       "test-3 (numeric)       int64\n",
       "dtype: object"
      ]
     },
     "execution_count": 4,
     "metadata": {},
     "output_type": "execute_result"
    }
   ],
   "source": [
    "df.dtypes"
   ]
  },
  {
   "cell_type": "markdown",
   "id": "4fd1fd1a-bb17-43f1-964f-cf886fd60e1f",
   "metadata": {},
   "source": [
    "<div style=\"font-family: 'Arial', sans-serif; font-size: 20px; color: #ffffff; background-color: #2d2d2d; padding: 25px; border: 3px solid #555555; border-radius: 15px; box-shadow: 0 6px 15px rgba(0, 0, 0, 0.4); margin-bottom: 25px;\">\n",
    "    <strong style=\"color: #ffcc00;\">Summary:</strong><br><br>\n",
    "    <span style=\"color: #cccccc;\">- <span style=\"color: #ffcc00;\">Nominal</span> columns are typically categorical with no inherent order (e.g., <code>test-1</code>).</span><br>\n",
    "    <span style=\"color: #cccccc;\">- <span style=\"color: #00bcd4;\">Ordinal</span> columns are categorical but have a specific order (e.g., <code>test-2</code>).</span><br>\n",
    "    <span style=\"color: #cccccc;\">- <span style=\"color: #4caf50;\">Numeric</span> columns contain numerical values (e.g., <code>test-3</code>).</span>\n",
    "</div>"
   ]
  }
 ],
 "metadata": {
  "kernelspec": {
   "display_name": "Python 3 (ipykernel)",
   "language": "python",
   "name": "python3"
  },
  "language_info": {
   "codemirror_mode": {
    "name": "ipython",
    "version": 3
   },
   "file_extension": ".py",
   "mimetype": "text/x-python",
   "name": "python",
   "nbconvert_exporter": "python",
   "pygments_lexer": "ipython3",
   "version": "3.12.4"
  }
 },
 "nbformat": 4,
 "nbformat_minor": 5
}
