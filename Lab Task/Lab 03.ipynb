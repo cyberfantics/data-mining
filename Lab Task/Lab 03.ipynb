{
 "cells": [
  {
   "cell_type": "markdown",
   "id": "a958aaef-8b15-4c23-bb50-8ff7a409d3d6",
   "metadata": {},
   "source": [
    "<div style=\"font-family: 'Arial', sans-serif; font-size: 48px; font-weight: bold; text-align: center; color: #ffcc00; background-color: #2a2a2a; padding: 30px; border: 3px solid #444; border-radius: 15px; box-shadow: 0 4px 10px rgba(0, 0, 0, 0.3); margin-bottom: 20px;\">\n",
    "    Data Mining\n",
    "</div>\n",
    "\n",
    "<div style=\"font-family: 'Arial', sans-serif; font-size: 48px; font-weight: bold; text-align: center; color: #ff9900; background-color: #333333; padding: 20px; border: 3px solid #444; border-radius: 15px; box-shadow: 0 4px 10px rgba(0, 0, 0, 0.3); margin-bottom: 20px;\">\n",
    "    Lab 03\n",
    "</div>\n",
    "\n",
    "<div style=\"font-family: 'Arial', sans-serif; font-size: 48px; font-weight: bold; text-align: center; color: #ff6600; background-color: #1c1c1c; padding: 20px; border: 3px solid #444; border-radius: 15px; box-shadow: 0 4px 10px rgba(0, 0, 0, 0.3); margin-bottom: 20px;\">\n",
    "    Syed Mansoor ul Hassan Bukhari\n",
    "</div>\n",
    "\n",
    "<div style=\"font-family: 'Arial', sans-serif; font-size: 48px; font-weight: bold; text-align: center; color: #ffcc00; background-color: #222222; padding: 20px; border: 3px solid #444; border-radius: 15px; box-shadow: 0 4px 10px rgba(0, 0, 0, 0.3); margin-bottom: 20px;\">\n",
    "    BSAI - VII\n",
    "</div>\n",
    "\n",
    "<div style=\"font-family: 'Arial', sans-serif; font-size: 48px; font-weight: bold; text-align: center; color: #ff3300; background-color: #1c1c1c; padding: 20px; border: 3px solid #444; border-radius: 15px; box-shadow: 0 4px 10px rgba(0, 0, 0, 0.3);\">\n",
    "    2021-25\n",
    "</div>\n",
    "\n",
    "<div style=\"font-family: 'Arial', sans-serif; font-size: 48px; font-weight: bold; text-align: center; color: #3399ff; background-color: #1c1c1c; padding: 20px; border: 3px solid #444; border-radius: 15px; box-shadow: 0 4px 10px rgba(0, 0, 0, 0.3);\">\n",
    "    <span style=\"position: relative; top: -10px;\">19</span> Nov, 2024\n",
    "</div>\n"
   ]
  },
  {
   "cell_type": "markdown",
   "id": "b6a83bc0-c043-49ce-ba2b-d862e8c263ba",
   "metadata": {},
   "source": [
    "<div style=\"font-family: 'Arial', sans-serif; font-size: 20px; text-align: left; color: #ffffff; background-color: #2d2d2d; padding: 25px; border: 3px solid #555555; border-radius: 15px; box-shadow: 0 6px 15px rgba(0, 0, 0, 0.4); margin-bottom: 25px;\">\n",
    "    <strong style=\"color: #ffcc00;\">Question 01: </strong>\n",
    "    <span style=\"color: #cccccc;\">Create the following Data Matrix in Python.</span>\n",
    "</div>\n",
    "<img src=\"Pictures/Picture1.png\" />"
   ]
  },
  {
   "cell_type": "code",
   "execution_count": 1,
   "id": "5f051c78-0e19-4569-968b-9a7fed19f629",
   "metadata": {},
   "outputs": [],
   "source": [
    "# First we need to import pandas for creating DataFrame\n",
    "import pandas as pd\n",
    "# We need to import numpy and pairwise_distances from sklearn for it\n",
    "import numpy as np\n",
    "from sklearn.metrics import pairwise_distances"
   ]
  },
  {
   "cell_type": "code",
   "execution_count": 2,
   "id": "c5ed0c24-a912-437e-951f-1fb234912544",
   "metadata": {},
   "outputs": [],
   "source": [
    "# Create DataFrame\n",
    "df = pd.DataFrame({\"Object Identifier\":[1, 2, 3, 4],\n",
    "                   \"test-1 (nominal)\": ['Code A', 'Code B', 'Code C', 'Code A'],\n",
    "                   'test-2 (ordinal)': ['excellent', 'fair', 'good', 'excellent'],\n",
    "                   'test-3 (numeric)': [45, 22, 64, 28]})\n",
    "\n",
    "# Set 'Object Identifier' as the index\n",
    "df.set_index('Object Identifier', inplace=True)\n",
    "\n",
    "# Convert 'test-2 (ordinal)' to a categorical type with ordered categories\n",
    "df['test-2 (ordinal)'] = pd.Categorical(df['test-2 (ordinal)'], categories=['fair', 'good', 'excellent'], ordered=True)"
   ]
  },
  {
   "cell_type": "code",
   "execution_count": 3,
   "id": "d77bca3e-b286-4d6d-bdb6-0fe3119eeb1b",
   "metadata": {},
   "outputs": [
    {
     "data": {
      "text/html": [
       "<div>\n",
       "<style scoped>\n",
       "    .dataframe tbody tr th:only-of-type {\n",
       "        vertical-align: middle;\n",
       "    }\n",
       "\n",
       "    .dataframe tbody tr th {\n",
       "        vertical-align: top;\n",
       "    }\n",
       "\n",
       "    .dataframe thead th {\n",
       "        text-align: right;\n",
       "    }\n",
       "</style>\n",
       "<table border=\"1\" class=\"dataframe\">\n",
       "  <thead>\n",
       "    <tr style=\"text-align: right;\">\n",
       "      <th></th>\n",
       "      <th>test-1 (nominal)</th>\n",
       "      <th>test-2 (ordinal)</th>\n",
       "      <th>test-3 (numeric)</th>\n",
       "    </tr>\n",
       "    <tr>\n",
       "      <th>Object Identifier</th>\n",
       "      <th></th>\n",
       "      <th></th>\n",
       "      <th></th>\n",
       "    </tr>\n",
       "  </thead>\n",
       "  <tbody>\n",
       "    <tr>\n",
       "      <th>1</th>\n",
       "      <td>Code A</td>\n",
       "      <td>excellent</td>\n",
       "      <td>45</td>\n",
       "    </tr>\n",
       "    <tr>\n",
       "      <th>2</th>\n",
       "      <td>Code B</td>\n",
       "      <td>fair</td>\n",
       "      <td>22</td>\n",
       "    </tr>\n",
       "    <tr>\n",
       "      <th>3</th>\n",
       "      <td>Code C</td>\n",
       "      <td>good</td>\n",
       "      <td>64</td>\n",
       "    </tr>\n",
       "    <tr>\n",
       "      <th>4</th>\n",
       "      <td>Code A</td>\n",
       "      <td>excellent</td>\n",
       "      <td>28</td>\n",
       "    </tr>\n",
       "  </tbody>\n",
       "</table>\n",
       "</div>"
      ],
      "text/plain": [
       "                  test-1 (nominal) test-2 (ordinal)  test-3 (numeric)\n",
       "Object Identifier                                                    \n",
       "1                           Code A        excellent                45\n",
       "2                           Code B             fair                22\n",
       "3                           Code C             good                64\n",
       "4                           Code A        excellent                28"
      ]
     },
     "execution_count": 3,
     "metadata": {},
     "output_type": "execute_result"
    }
   ],
   "source": [
    "df"
   ]
  },
  {
   "cell_type": "code",
   "execution_count": 4,
   "id": "30f12354-2eca-4e74-8ecf-f51e809a223b",
   "metadata": {},
   "outputs": [
    {
     "data": {
      "text/plain": [
       "test-1 (nominal)      object\n",
       "test-2 (ordinal)    category\n",
       "test-3 (numeric)       int64\n",
       "dtype: object"
      ]
     },
     "execution_count": 4,
     "metadata": {},
     "output_type": "execute_result"
    }
   ],
   "source": [
    "df.dtypes"
   ]
  },
  {
   "cell_type": "markdown",
   "id": "4fd1fd1a-bb17-43f1-964f-cf886fd60e1f",
   "metadata": {},
   "source": [
    "<div style=\"font-family: 'Arial', sans-serif; font-size: 20px; color: #ffffff; background-color: #2d2d2d; padding: 25px; border: 3px solid #555555; border-radius: 15px; box-shadow: 0 6px 15px rgba(0, 0, 0, 0.4); margin-bottom: 25px;\">\n",
    "    <strong style=\"color: #ffcc00;\">Summary:</strong><br><br>\n",
    "    <span style=\"color: #cccccc;\">- <span style=\"color: #ffcc00;\">Nominal</span> columns are typically categorical with no inherent order (e.g., <code>test-1</code>).</span><br>\n",
    "    <span style=\"color: #cccccc;\">- <span style=\"color: #00bcd4;\">Ordinal</span> columns are categorical but have a specific order (e.g., <code>test-2</code>).</span><br>\n",
    "    <span style=\"color: #cccccc;\">- <span style=\"color: #4caf50;\">Numeric</span> columns contain numerical values (e.g., <code>test-3</code>).</span>\n",
    "</div>"
   ]
  },
  {
   "cell_type": "markdown",
   "id": "40ebb248-65fe-408a-b5f9-d351229b418d",
   "metadata": {},
   "source": [
    "<div style=\"font-family: 'Arial', sans-serif; font-size: 20px; text-align: left; color: #ffffff; background-color: #2d2d2d; padding: 25px; border: 3px solid #555555; border-radius: 15px; box-shadow: 0 6px 15px rgba(0, 0, 0, 0.4); margin-bottom: 25px;\">\r\n",
    "    <strong style=\"color: #ffcc00;\">Q2: </strong>\r\n",
    "    <span style=\"color: #cccccc;\">Generate the dissimilarities matrices using appropriate proximity measures for:</span><br>\r\n",
    "    <ol style=\"color: #cccccc;\">\r\n",
    "        <li>Nominal Attributes</li>\r\n",
    "        <li>Ordinal Attributes</li>\r\n",
    "        <li>Numerical Attributes</li>\r\n",
    "    </ol>\r\n",
    "    <span style=\"color: #cccccc;\">Use the data matrix created in the previous lab where required. You can assume the missing attributes (such as numeric).</span>\r\n",
    "</div>\r\n"
   ]
  },
  {
   "cell_type": "markdown",
   "id": "6a3ee61e-b0a7-4de4-aa82-ee7900796891",
   "metadata": {},
   "source": [
    "<div style=\"font-family: 'Arial', sans-serif; font-size: 20px; color: #ffffff; background-color: #2d2d2d; padding: 25px; border: 3px solid #555555; border-radius: 15px; box-shadow: 0 6px 15px rgba(0, 0, 0, 0.4); margin-bottom: 25px;\">\n",
    "<center>\n",
    "  <span style=\"color:#4682B4; font-size:22px; font-weight: bold; padding: 5px;\">Dissimilarity for Nominal Attributes (test-1)</span>\n",
    "</center>\n",
    "</div>"
   ]
  },
  {
   "cell_type": "code",
   "execution_count": 5,
   "id": "fa4436df-683e-4116-ad42-2e3b2a39ad24",
   "metadata": {},
   "outputs": [],
   "source": [
    "# Use simple matching (Hamming distance)\n",
    "def nominal_dissimilarity(df_nominal):\n",
    "    # Create a binary dissimilarity matrix\n",
    "    return pairwise_distances(df_nominal, metric='hamming')\n",
    "\n",
    "# Convert 'test-1 (nominal)' to categorical for pairwise comparison\n",
    "nominal_df = pd.get_dummies(df['test-1 (nominal)'])"
   ]
  },
  {
   "cell_type": "code",
   "execution_count": 6,
   "id": "aefd57a1-a517-4a36-8ef5-c4ac159f4832",
   "metadata": {},
   "outputs": [
    {
     "data": {
      "text/html": [
       "<div>\n",
       "<style scoped>\n",
       "    .dataframe tbody tr th:only-of-type {\n",
       "        vertical-align: middle;\n",
       "    }\n",
       "\n",
       "    .dataframe tbody tr th {\n",
       "        vertical-align: top;\n",
       "    }\n",
       "\n",
       "    .dataframe thead th {\n",
       "        text-align: right;\n",
       "    }\n",
       "</style>\n",
       "<table border=\"1\" class=\"dataframe\">\n",
       "  <thead>\n",
       "    <tr style=\"text-align: right;\">\n",
       "      <th></th>\n",
       "      <th>Code A</th>\n",
       "      <th>Code B</th>\n",
       "      <th>Code C</th>\n",
       "    </tr>\n",
       "    <tr>\n",
       "      <th>Object Identifier</th>\n",
       "      <th></th>\n",
       "      <th></th>\n",
       "      <th></th>\n",
       "    </tr>\n",
       "  </thead>\n",
       "  <tbody>\n",
       "    <tr>\n",
       "      <th>1</th>\n",
       "      <td>True</td>\n",
       "      <td>False</td>\n",
       "      <td>False</td>\n",
       "    </tr>\n",
       "    <tr>\n",
       "      <th>2</th>\n",
       "      <td>False</td>\n",
       "      <td>True</td>\n",
       "      <td>False</td>\n",
       "    </tr>\n",
       "    <tr>\n",
       "      <th>3</th>\n",
       "      <td>False</td>\n",
       "      <td>False</td>\n",
       "      <td>True</td>\n",
       "    </tr>\n",
       "    <tr>\n",
       "      <th>4</th>\n",
       "      <td>True</td>\n",
       "      <td>False</td>\n",
       "      <td>False</td>\n",
       "    </tr>\n",
       "  </tbody>\n",
       "</table>\n",
       "</div>"
      ],
      "text/plain": [
       "                   Code A  Code B  Code C\n",
       "Object Identifier                        \n",
       "1                    True   False   False\n",
       "2                   False    True   False\n",
       "3                   False   False    True\n",
       "4                    True   False   False"
      ]
     },
     "execution_count": 6,
     "metadata": {},
     "output_type": "execute_result"
    }
   ],
   "source": [
    "nominal_df"
   ]
  },
  {
   "cell_type": "code",
   "execution_count": 7,
   "id": "be106083-5d97-449c-8df8-e2d0fac0603f",
   "metadata": {},
   "outputs": [
    {
     "name": "stdout",
     "output_type": "stream",
     "text": [
      "Nominal Dissimilarity Matrix:\n"
     ]
    },
    {
     "data": {
      "text/plain": [
       "array([[0.        , 0.66666667, 0.66666667, 0.        ],\n",
       "       [0.66666667, 0.        , 0.66666667, 0.66666667],\n",
       "       [0.66666667, 0.66666667, 0.        , 0.66666667],\n",
       "       [0.        , 0.66666667, 0.66666667, 0.        ]])"
      ]
     },
     "execution_count": 7,
     "metadata": {},
     "output_type": "execute_result"
    }
   ],
   "source": [
    "# Calculate dissimilarity matrix for nominal attributes\n",
    "nominal_dissimilarity_matrix = nominal_dissimilarity(nominal_df)\n",
    "print(\"Nominal Dissimilarity Matrix:\")\n",
    "nominal_dissimilarity_matrix"
   ]
  },
  {
   "cell_type": "markdown",
   "id": "225e059b-cd0b-401d-b8f1-e1540c0fdf31",
   "metadata": {},
   "source": [
    "<div style=\"font-family: 'Arial', sans-serif; font-size: 20px; color: #ffffff; background-color: #2d2d2d; padding: 25px; border: 3px solid #555555; border-radius: 15px; box-shadow: 0 6px 15px rgba(0, 0, 0, 0.4); margin-bottom: 25px;\">\n",
    "<center>\n",
    "  <span style=\"color:#4682B4; font-size:22px; font-weight: bold; padding: 5px;\">Dissimilarity for Ordinal Attributes (test-2)</span>\n",
    "</center>\n",
    "</div>"
   ]
  },
  {
   "cell_type": "code",
   "execution_count": 7,
   "id": "ac1babec-c962-49f5-b9a5-932259a06e8b",
   "metadata": {},
   "outputs": [],
   "source": [
    "# Use the absolute difference between the ranks\n",
    "def ordinal_dissimilarity(df_ordinal):\n",
    "    # Convert ordinal categories to their rank positions\n",
    "    return pairwise_distances(df_ordinal, metric='cityblock')\n",
    "\n",
    "# Calculate dissimilarity matrix for ordinal attributes\n",
    "ordinal_dissimilarity_matrix = ordinal_dissimilarity(df['test-2 (ordinal)'].cat.codes.values.reshape(-1, 1))"
   ]
  },
  {
   "cell_type": "code",
   "execution_count": 8,
   "id": "f72b24f2-db06-4494-b82f-c9346f583b41",
   "metadata": {},
   "outputs": [
    {
     "name": "stdout",
     "output_type": "stream",
     "text": [
      "\n",
      "Ordinal Dissimilarity Matrix:\n",
      "[[0. 1. 1. 0.]\n",
      " [1. 0. 1. 1.]\n",
      " [1. 1. 0. 1.]\n",
      " [0. 1. 1. 0.]]\n"
     ]
    }
   ],
   "source": [
    "print(\"\\nOrdinal Dissimilarity Matrix:\")\n",
    "print(ordinal_dissimilarity_matrix)"
   ]
  },
  {
   "cell_type": "markdown",
   "id": "26bfbc68-801f-48b0-af2b-b3dc0e566a96",
   "metadata": {},
   "source": [
    "<div style=\"font-family: 'Arial', sans-serif; font-size: 20px; color: #ffffff; background-color: #2d2d2d; padding: 25px; border: 3px solid #555555; border-radius: 15px; box-shadow: 0 6px 15px rgba(0, 0, 0, 0.4); margin-bottom: 25px;\">\n",
    "<center>\n",
    "  <span style=\"color:#4682B4; font-size:22px; font-weight: bold; padding: 5px;\">Dissimilarity for Numerical Attributes (test-3)</span>\n",
    "</center>\n",
    "</div>"
   ]
  },
  {
   "cell_type": "code",
   "execution_count": 9,
   "id": "ee1f31b3-4c10-4dd3-a682-76f5a0502f63",
   "metadata": {},
   "outputs": [],
   "source": [
    "# Use Euclidean distance for numeric columns\n",
    "def numerical_dissimilarity(df_numerical):\n",
    "    # Calculate Euclidean distance\n",
    "    return pairwise_distances(df_numerical, metric='euclidean')\n",
    "\n",
    "# Calculate dissimilarity matrix for numerical attributes\n",
    "numerical_dissimilarity_matrix = numerical_dissimilarity(df[['test-3 (numeric)']])"
   ]
  },
  {
   "cell_type": "code",
   "execution_count": 10,
   "id": "f3444597-4866-4d25-b6a3-579617db4621",
   "metadata": {},
   "outputs": [
    {
     "name": "stdout",
     "output_type": "stream",
     "text": [
      "\n",
      "Numerical Dissimilarity Matrix:\n",
      "[[ 0. 23. 19. 17.]\n",
      " [23.  0. 42.  6.]\n",
      " [19. 42.  0. 36.]\n",
      " [17.  6. 36.  0.]]\n"
     ]
    }
   ],
   "source": [
    "print(\"\\nNumerical Dissimilarity Matrix:\")\n",
    "print(numerical_dissimilarity_matrix)"
   ]
  },
  {
   "cell_type": "markdown",
   "id": "eaaea325-c160-4ed2-b05a-3602b9655cfe",
   "metadata": {},
   "source": [
    "<div style=\"font-family: 'Arial', sans-serif; font-size: 20px; color: #ffffff; background-color: #2d2d2d; padding: 25px; border: 3px solid #555555; border-radius: 15px; box-shadow: 0 6px 15px rgba(0, 0, 0, 0.4); margin-bottom: 25px;\">\n",
    "    <strong style=\"color: #ffcc00;\">Dissimilarity Calculations for Nominal, Ordinal, and Numerical Attributes</strong><br><br>\n",
    "    <span style=\"color: #cccccc;\">In this section, we calculate the dissimilarity matrices for three types of data attributes: <span style=\"color: #ffcc00;\">Nominal</span>, <span style=\"color: #00bcd4;\">Ordinal</span>, and <span style=\"color: #4caf50;\">Numerical</span>. Each type of attribute is compared using different distance metrics suited to their characteristics: <span style=\"color: #ffcc00;\">Hamming Distance</span> for nominal attributes, <span style=\"color: #00bcd4;\">Manhattan Distance</span> for ordinal attributes, and <span style=\"color: #4caf50;\">Euclidean Distance</span> for numerical attributes.</span.<br><br>\n",
    "    <strong style=\"color: #ffcc00;\">1. Dissimilarity for Nominal Attributes (Hamming Distance)</strong><br>\n",
    "    <span style=\"color: #cccccc;\">Nominal data refers to categorical data where the values represent categories without any inherent order (e.g., colors: \"Red\", \"Blue\", \"Green\").</span><br>\n",
    "    <span style=\"color: #cccccc;\">- <span style=\"color: #ffcc00;\">Hamming Distance</span> is used to measure dissimilarity in nominal data. It works by comparing the corresponding values of two elements in the dataset and counting how many positions have different values. It is appropriate for binary or categorical variables.</span><br>\n",
    "    <span style=\"color: #cccccc;\">- The nominal data is converted into binary (dummy/indicator) variables, and the dissimilarity matrix is calculated using <span style=\"color: #ffcc00;\">Hamming distance</span>, which counts the number of different categorical values between each pair of observations.</span><br><br>\n",
    "    <strong style=\"color: #ffcc00;\">2. Dissimilarity for Ordinal Attributes (Manhattan / Cityblock Distance)</strong><br>\n",
    "    <span style=\"color: #cccccc;\">Ordinal data refers to categorical variables with a defined order or ranking but without a consistent difference between categories (e.g., \"Low\", \"Medium\", \"High\").</span><br>\n",
    "    <span style=\"color: #cccccc;\">- <span style=\"color: #00bcd4;\">Manhattan Distance (also known as Cityblock distance)</span> is used for ordinal attributes. This metric calculates the sum of absolute differences between the ranks of the categories, making it useful for attributes where the categories have a meaningful order.</span><br>\n",
    "    <span style=\"color: #cccccc;\">- To compute dissimilarity for ordinal data, the categorical values are first converted into numerical ranks. Then, the dissimilarity is calculated based on the absolute differences between the ranks using <span style=\"color: #00bcd4;\">Manhattan distance</span>.</span><br><br>\n",
    "    <strong style=\"color: #ffcc00;\">3. Dissimilarity for Numerical Attributes (Euclidean Distance)</strong><br>\n",
    "    <span style=\"color: #cccccc;\">Numerical data consists of continuous or discrete variables that represent quantities, such as \"Age\", \"Height\", or \"Weight\".</span><br>\n",
    "    <span style=\"color: #cccccc;\">- <span style=\"color: #4caf50;\">Euclidean Distance</span> is the most common metric for calculating dissimilarity between numerical data points. It computes the straight-line distance between two points in a multi-dimensional space, which is ideal for continuous variables.</span><br>\n",
    "    <span style=\"color: #cccccc;\">- The dissimilarity matrix is computed by calculating the Euclidean distance between each pair of numerical values in the dataset, taking into account the actual numeric differences.</span><br><br>"
   ]
  }
 ],
 "metadata": {
  "kernelspec": {
   "display_name": "Python 3 (ipykernel)",
   "language": "python",
   "name": "python3"
  },
  "language_info": {
   "codemirror_mode": {
    "name": "ipython",
    "version": 3
   },
   "file_extension": ".py",
   "mimetype": "text/x-python",
   "name": "python",
   "nbconvert_exporter": "python",
   "pygments_lexer": "ipython3",
   "version": "3.12.4"
  }
 },
 "nbformat": 4,
 "nbformat_minor": 5
}
