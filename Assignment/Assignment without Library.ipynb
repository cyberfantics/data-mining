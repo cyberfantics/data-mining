{
 "cells": [
  {
   "cell_type": "markdown",
   "id": "8007bb6b-4396-4f3d-b1b6-12e0c3cafbbd",
   "metadata": {},
   "source": [
    "<div style=\"font-family: 'Arial', sans-serif; font-size: 48px; font-weight: bold; text-align: center; color: #ffcc00; background-color: #2a2a2a; padding: 30px; border: 3px solid #444; border-radius: 15px; box-shadow: 0 4px 10px rgba(0, 0, 0, 0.3); margin-bottom: 20px;\">\n",
    "    Data Mining\n",
    "</div>\n",
    "\n",
    "<div style=\"font-family: 'Arial', sans-serif; font-size: 48px; font-weight: bold; text-align: center; color: #ff9900; background-color: #333333; padding: 20px; border: 3px solid #444; border-radius: 15px; box-shadow: 0 4px 10px rgba(0, 0, 0, 0.3); margin-bottom: 20px;\">\n",
    "    Assignment 01\n",
    "</div>\n",
    "\n",
    "<div style=\"font-family: 'Arial', sans-serif; font-size: 48px; font-weight: bold; text-align: center; color: #ff6600; background-color: #1c1c1c; padding: 20px; border: 3px solid #444; border-radius: 15px; box-shadow: 0 4px 10px rgba(0, 0, 0, 0.3); margin-bottom: 20px;\">\n",
    "    Syed Mansoor ul Hassan Bukhari\n",
    "</div>\n",
    "\n",
    "<div style=\"font-family: 'Arial', sans-serif; font-size: 48px; font-weight: bold; text-align: center; color: #ffcc00; background-color: #222222; padding: 20px; border: 3px solid #444; border-radius: 15px; box-shadow: 0 4px 10px rgba(0, 0, 0, 0.3); margin-bottom: 20px;\">\n",
    "    BSAI - VII\n",
    "</div>\n",
    "\n",
    "<div style=\"font-family: 'Arial', sans-serif; font-size: 48px; font-weight: bold; text-align: center; color: #ff3300; background-color: #1c1c1c; padding: 20px; border: 3px solid #444; border-radius: 15px; box-shadow: 0 4px 10px rgba(0, 0, 0, 0.3);\">\n",
    "    2021-25\n",
    "</div>\n",
    "\n",
    "<div style=\"font-family: 'Arial', sans-serif; font-size: 48px; font-weight: bold; text-align: center; color: #3399ff; background-color: #1c1c1c; padding: 20px; border: 3px solid #444; border-radius: 15px; box-shadow: 0 4px 10px rgba(0, 0, 0, 0.3);\">\n",
    "    <span style=\"position: relative; top: -10px;\">26</span> Jan, 2025\n",
    "</div>\n"
   ]
  },
  {
   "cell_type": "markdown",
   "id": "f6d17770-a058-4087-9ba5-2b7906bfba84",
   "metadata": {},
   "source": [
    "<div style=\"font-family: 'Arial', sans-serif; font-size: 20px; text-align: left; color: #ffffff; background-color: #2d2d2d; padding: 25px; border: 3px solid #555555; border-radius: 15px; box-shadow: 0 6px 15px rgba(0, 0, 0, 0.4); margin-bottom: 25px;\">\n",
    "    <strong style=\"color: #ffcc00;\">Question 05: </strong>\n",
    "    <span style=\"color: #cccccc;\">Consider the following text (Tweets):</span><br><br>\n",
    "    <span style=\"color: #cccccc;\">@MeNyrbie @Phil_Gahan @Chrisitv https://t.co/iFz9FAn2Pa and https://t.co/xX6ghGFzCC and https://t.co/I2NlzdxNo8 advice Talk to your neighbours family to exchange phone numbers create contact list with phone numbers of neighbours schools employer chemist GP set up online shopping accounts if poss adequate supplies of regular meds but not over order</span><br><br>\n",
    "    <span style=\"color: #cccccc;\">Coronavirus Australia: Woolworths to give elderly, disabled dedicated shopping hours amid COVID-19 outbreak https://t.co/bInCA9Vp8P</span><br><br>\n",
    "    <span style=\"color: #cccccc;\">\"My food stock is not the only one which is empty... PLEASE, don't panic, THERE WILL BE ENOUGH FOOD FOR EVERYONE if you do not take more than you need. Stay calm, stay safe. #COVID19france #COVID_19 #COVID19 #coronavirus #confinement #Confinementotal #ConfinementGeneral https://t.co/zrlG0Z520j\"</span><br><br>\n",
    "    <span style=\"color: #cccccc;\">\"Me, ready to go at supermarket during the #COVID19 outbreak. Not because I'm paranoid, but because my food stock is litteraly empty. The #coronavirus is a serious thing, but please, don't panic. It causes shortage... #CoronavirusFrance #restezchezvous #StayAtHome #confinement https://t.co/usmuaLq72n\"</span><br><br>\n",
    "    <span style=\"color: #cccccc;\">As news of the region’s first confirmed COVID-19 case came out of Sullivan County last week, people flocked to area stores to purchase cleaning supplies, hand sanitizer, food, toilet paper and other goods, @Tim_Dodson reports https://t.co/cfXch7a2lU</span><br><br>\n",
    "    <span style=\"color: #cccccc;\">Cashier at grocery store was sharing his insights on #Covid_19 To prove his credibility he commented \"I'm in Civics class so I know what I'm talking about\". https://t.co/ieFDNeHgDO</span><br><br>\n",
    "    <strong style=\"color: #ffcc00;\">Task:</strong> <span style=\"color: #cccccc;\">Apply Data cleaning and use TF method for Feature representation. Consider the Unigrams as features.</span>\n",
    "</div>"
   ]
  },
  {
   "cell_type": "code",
   "execution_count": 3,
   "id": "d3490765-ac0e-4587-bd03-97464e0155e4",
   "metadata": {},
   "outputs": [],
   "source": [
    "import re\n",
    "import pandas as pd\n",
    "from collections import Counter"
   ]
  },
  {
   "cell_type": "markdown",
   "id": "b25aa56d-f047-46b4-83f0-e16a1d36a9bf",
   "metadata": {},
   "source": [
    "<div style=\"font-family: 'Arial', sans-serif; font-size: 20px; text-align: center; color: #ffffff; background-color: #2d2d2d; padding: 25px; border: 3px solid #555555; border-radius: 15px; box-shadow: 0 6px 15px rgba(0, 0, 0, 0.4); margin-bottom: 25px;\">\n",
    "    <strong style=\"color: #ffcc00;\"> Provided dataset </strong>\n",
    "</div>"
   ]
  },
  {
   "cell_type": "code",
   "execution_count": 4,
   "id": "3e1db8d8-e863-4284-ad08-ecbd885565df",
   "metadata": {},
   "outputs": [],
   "source": [
    "text = [\n",
    "    \"@MeNyrbie @Phil_Gahan @Chrisitv https://t.co/iFz9FAn2Pa and https://t.co/xX6ghGFzCC and https://t.co/I2NlzdxNo8 advice Talk to your neighbours family to exchange phone numbers create contact list with phone numbers of neighbours schools employer chemist GP set up online shopping accounts if poss adequate supplies of regular meds but not over order\",\n",
    "    \"Coronavirus Australia: Woolworths to give elderly, disabled dedicated shopping hours amid COVID-19 outbreak https://t.co/bInCA9Vp8P\",\n",
    "    \"\\\"My food stock is not the only one which is empty... PLEASE, don't panic, THERE WILL BE ENOUGH FOOD FOR EVERYONE if you do not take more than you need. Stay calm, stay safe. #COVID19france #COVID_19 #COVID19 #coronavirus #confinement #Confinementotal #ConfinementGeneral https://t.co/zrlG0Z520j\\\"\",\n",
    "    \"\\\"Me, ready to go at supermarket during the #COVID19 outbreak. Not because I'm paranoid, but because my food stock is litteraly empty. The #coronavirus is a serious thing, but please, don't panic. It causes shortage... #CoronavirusFrance #restezchezvous #StayAtHome #confinement https://t.co/usmuaLq72n\\\"\",\n",
    "    \"As news of the region’s first confirmed COVID-19 case came out of Sullivan County last week, people flocked to area stores to purchase cleaning supplies, hand sanitizer, food, toilet paper and other goods, @Tim_Dodson reports https://t.co/cfXch7a2lU\",\n",
    "    \"Cashier at grocery store was sharing his insights on #Covid_19 To prove his credibility he commented \\\"I'm in Civics class so I know what I'm talking about\\\". https://t.co/ieFDNeHgDO\"\n",
    "]"
   ]
  },
  {
   "cell_type": "code",
   "execution_count": 5,
   "id": "e28f1569-1b8a-4525-813d-40c514b4dc21",
   "metadata": {},
   "outputs": [],
   "source": [
    "# Step 1: Data Cleaning (removing URLs, special characters, etc.)\n",
    "def clean_text(text):\n",
    "    # Remove URLs\n",
    "    text = re.sub(r'http\\S+|https\\S+', '', text)\n",
    "    # Remove hashtags and mentions\n",
    "    text = re.sub(r'[@#]\\S+', '', text)\n",
    "    # Convert to lowercase\n",
    "    text = text.lower()\n",
    "    # Remove any special characters\n",
    "    text = re.sub(r'[^a-z\\s]', '', text)\n",
    "    return text"
   ]
  },
  {
   "cell_type": "markdown",
   "id": "61042a20-6d41-4c74-83e3-bd611160bb59",
   "metadata": {},
   "source": [
    "<div style=\"font-family: 'Arial', sans-serif; font-size: 20px; text-align: center; color: #ffffff; background-color: #2d2d2d; padding: 25px; border: 3px solid #555555; border-radius: 15px; box-shadow: 0 6px 15px rgba(0, 0, 0, 0.4); margin-bottom: 25px;\">\n",
    "    <strong style=\"color: #ffcc00;\"> Clean The Entire Dataset</strong>\n",
    "</div>"
   ]
  },
  {
   "cell_type": "code",
   "execution_count": 6,
   "id": "a41eec8a-9276-4302-b0fd-107bd23d67ef",
   "metadata": {},
   "outputs": [],
   "source": [
    "cleaned_text = [clean_text(doc) for doc in text]"
   ]
  },
  {
   "cell_type": "code",
   "execution_count": 7,
   "id": "42b495c1-bc5b-4000-bc08-2c69cc5f8407",
   "metadata": {},
   "outputs": [
    {
     "data": {
      "text/plain": [
       "['    and  and  advice talk to your neighbours family to exchange phone numbers create contact list with phone numbers of neighbours schools employer chemist gp set up online shopping accounts if poss adequate supplies of regular meds but not over order',\n",
       " 'coronavirus australia woolworths to give elderly disabled dedicated shopping hours amid covid outbreak ',\n",
       " 'my food stock is not the only one which is empty please dont panic there will be enough food for everyone if you do not take more than you need stay calm stay safe        ',\n",
       " 'me ready to go at supermarket during the  outbreak not because im paranoid but because my food stock is litteraly empty the  is a serious thing but please dont panic it causes shortage     ',\n",
       " 'as news of the regions first confirmed covid case came out of sullivan county last week people flocked to area stores to purchase cleaning supplies hand sanitizer food toilet paper and other goods  reports ',\n",
       " 'cashier at grocery store was sharing his insights on  to prove his credibility he commented im in civics class so i know what im talking about ']"
      ]
     },
     "execution_count": 7,
     "metadata": {},
     "output_type": "execute_result"
    }
   ],
   "source": [
    "cleaned_text"
   ]
  },
  {
   "cell_type": "markdown",
   "id": "1f2d690f-9dcf-435e-b1e7-6f1b7cb185d8",
   "metadata": {},
   "source": [
    "<div style=\"font-family: 'Arial', sans-serif; font-size: 20px; text-align: center; color: #ffffff; background-color: #2d2d2d; padding: 25px; border: 3px solid #555555; border-radius: 15px; box-shadow: 0 6px 15px rgba(0, 0, 0, 0.4); margin-bottom: 25px;\">\n",
    "    <strong style=\"color: #ffcc00;\"> Tokenization <span style=\"color: #00ffcc\">(simple split by whitespace)</span></strong>\n",
    "</div>"
   ]
  },
  {
   "cell_type": "code",
   "execution_count": 8,
   "id": "07ea61c4-03b0-4014-b2cb-a4c8fd23e881",
   "metadata": {},
   "outputs": [],
   "source": [
    "def tokenize(text):\n",
    "    return text.split()"
   ]
  },
  {
   "cell_type": "code",
   "execution_count": 10,
   "id": "90b0c659-7d88-46c2-a9ba-cf8fb62fd58c",
   "metadata": {},
   "outputs": [],
   "source": [
    "# Tokenize the cleaned text\n",
    "tokenized_text = [tokenize(doc) for doc in cleaned_text]"
   ]
  },
  {
   "cell_type": "code",
   "execution_count": 14,
   "id": "42a91819-038b-4c1c-9b00-1aba7cacd810",
   "metadata": {},
   "outputs": [
    {
     "name": "stdout",
     "output_type": "stream",
     "text": [
      "['and', 'and', 'advice', 'talk', 'to', 'your', 'neighbours', 'family', 'to', 'exchange', 'phone', 'numbers', 'create', 'contact', 'list', 'with', 'phone', 'numbers', 'of', 'neighbours', 'schools', 'employer', 'chemist', 'gp', 'set', 'up', 'online', 'shopping', 'accounts', 'if', 'poss', 'adequate', 'supplies', 'of', 'regular', 'meds', 'but', 'not', 'over', 'order']\n",
      "['coronavirus', 'australia', 'woolworths', 'to', 'give', 'elderly', 'disabled', 'dedicated', 'shopping', 'hours', 'amid', 'covid', 'outbreak']\n",
      "['my', 'food', 'stock', 'is', 'not', 'the', 'only', 'one', 'which', 'is', 'empty', 'please', 'dont', 'panic', 'there', 'will', 'be', 'enough', 'food', 'for', 'everyone', 'if', 'you', 'do', 'not', 'take', 'more', 'than', 'you', 'need', 'stay', 'calm', 'stay', 'safe']\n",
      "['me', 'ready', 'to', 'go', 'at', 'supermarket', 'during', 'the', 'outbreak', 'not', 'because', 'im', 'paranoid', 'but', 'because', 'my', 'food', 'stock', 'is', 'litteraly', 'empty', 'the', 'is', 'a', 'serious', 'thing', 'but', 'please', 'dont', 'panic', 'it', 'causes', 'shortage']\n",
      "['as', 'news', 'of', 'the', 'regions', 'first', 'confirmed', 'covid', 'case', 'came', 'out', 'of', 'sullivan', 'county', 'last', 'week', 'people', 'flocked', 'to', 'area', 'stores', 'to', 'purchase', 'cleaning', 'supplies', 'hand', 'sanitizer', 'food', 'toilet', 'paper', 'and', 'other', 'goods', 'reports']\n",
      "['cashier', 'at', 'grocery', 'store', 'was', 'sharing', 'his', 'insights', 'on', 'to', 'prove', 'his', 'credibility', 'he', 'commented', 'im', 'in', 'civics', 'class', 'so', 'i', 'know', 'what', 'im', 'talking', 'about']\n"
     ]
    }
   ],
   "source": [
    "for text in tokenized_text:\n",
    "    print(text)"
   ]
  },
  {
   "cell_type": "markdown",
   "id": "3b1e1faa-0d77-44f2-b31c-53273e1ebc50",
   "metadata": {},
   "source": [
    "<div style=\"font-family: 'Arial', sans-serif; font-size: 20px; text-align: center; color: #ffffff; background-color: #2d2d2d; padding: 25px; border: 3px solid #555555; border-radius: 15px; box-shadow: 0 6px 15px rgba(0, 0, 0, 0.4); margin-bottom: 25px;\">\n",
    "    <strong style=\"color: #ffcc00;\"> Calculate Term Frequency <span style=\"color:#00ffcc\">(TF) </span> </strong>\n",
    "</div>"
   ]
  },
  {
   "cell_type": "code",
   "execution_count": 15,
   "id": "f443dceb-dfc3-4a50-bed0-642074ba7672",
   "metadata": {},
   "outputs": [],
   "source": [
    "def calculate_tf(doc_tokens):\n",
    "    token_count = Counter(doc_tokens)  # Count the frequency of each word in the document\n",
    "    total_tokens = len(doc_tokens)  # Total number of tokens in the document\n",
    "    tf = {term: count / total_tokens for term, count in token_count.items()}  # Compute TF\n",
    "    return tf"
   ]
  },
  {
   "cell_type": "code",
   "execution_count": 16,
   "id": "45b3e43f-51a6-4c59-9cb4-b46615f97add",
   "metadata": {},
   "outputs": [],
   "source": [
    "# Calculate TF for each document\n",
    "tf_scores = [calculate_tf(doc) for doc in tokenized_text]"
   ]
  },
  {
   "cell_type": "markdown",
   "id": "2d49580e-c418-4968-af98-6dcc7c3eecfd",
   "metadata": {},
   "source": [
    "<div style=\"font-family: 'Arial', sans-serif; font-size: 20px; text-align: center; color: #ffffff; background-color: #2d2d2d; padding: 25px; border: 3px solid #555555; border-radius: 15px; box-shadow: 0 6px 15px rgba(0, 0, 0, 0.4); margin-bottom: 25px;\">\n",
    "    <strong style=\"color: #ffcc00;\"> Convert the DataFrame for better visualization</strong>\n",
    "</div>"
   ]
  },
  {
   "cell_type": "code",
   "execution_count": 19,
   "id": "08fe7bba-dc9c-440f-9000-2dfb812d7639",
   "metadata": {},
   "outputs": [],
   "source": [
    "# Extract all unique terms across all documents\n",
    "all_terms = sorted(set(term for tf in tf_scores for term in tf.keys()))"
   ]
  },
  {
   "cell_type": "code",
   "execution_count": 20,
   "id": "96cb6089-8cc3-4a94-bcb2-7bbaa0189f13",
   "metadata": {},
   "outputs": [],
   "source": [
    "# Prepare data for DataFrame\n",
    "data = []\n",
    "for tf in tf_scores:\n",
    "    row = [tf.get(term, 0) for term in all_terms]  # Get TF values for each term (0 if not present)\n",
    "    data.append(row)"
   ]
  },
  {
   "cell_type": "code",
   "execution_count": 21,
   "id": "9377a0f9-62bc-499a-a136-eb020ea0636c",
   "metadata": {},
   "outputs": [],
   "source": [
    "# Create a DataFrame with the TF values\n",
    "df = pd.DataFrame(data, columns=all_terms)"
   ]
  },
  {
   "cell_type": "code",
   "execution_count": 22,
   "id": "5a5651a9-9950-48bf-bbb8-397565bb88fd",
   "metadata": {},
   "outputs": [
    {
     "data": {
      "text/html": [
       "<div>\n",
       "<style scoped>\n",
       "    .dataframe tbody tr th:only-of-type {\n",
       "        vertical-align: middle;\n",
       "    }\n",
       "\n",
       "    .dataframe tbody tr th {\n",
       "        vertical-align: top;\n",
       "    }\n",
       "\n",
       "    .dataframe thead th {\n",
       "        text-align: right;\n",
       "    }\n",
       "</style>\n",
       "<table border=\"1\" class=\"dataframe\">\n",
       "  <thead>\n",
       "    <tr style=\"text-align: right;\">\n",
       "      <th></th>\n",
       "      <th>a</th>\n",
       "      <th>about</th>\n",
       "      <th>accounts</th>\n",
       "      <th>adequate</th>\n",
       "      <th>advice</th>\n",
       "      <th>amid</th>\n",
       "      <th>and</th>\n",
       "      <th>area</th>\n",
       "      <th>as</th>\n",
       "      <th>at</th>\n",
       "      <th>...</th>\n",
       "      <th>up</th>\n",
       "      <th>was</th>\n",
       "      <th>week</th>\n",
       "      <th>what</th>\n",
       "      <th>which</th>\n",
       "      <th>will</th>\n",
       "      <th>with</th>\n",
       "      <th>woolworths</th>\n",
       "      <th>you</th>\n",
       "      <th>your</th>\n",
       "    </tr>\n",
       "  </thead>\n",
       "  <tbody>\n",
       "    <tr>\n",
       "      <th>0</th>\n",
       "      <td>0.000000</td>\n",
       "      <td>0.000000</td>\n",
       "      <td>0.025</td>\n",
       "      <td>0.025</td>\n",
       "      <td>0.025</td>\n",
       "      <td>0.000000</td>\n",
       "      <td>0.050000</td>\n",
       "      <td>0.000000</td>\n",
       "      <td>0.000000</td>\n",
       "      <td>0.000000</td>\n",
       "      <td>...</td>\n",
       "      <td>0.025</td>\n",
       "      <td>0.000000</td>\n",
       "      <td>0.000000</td>\n",
       "      <td>0.000000</td>\n",
       "      <td>0.000000</td>\n",
       "      <td>0.000000</td>\n",
       "      <td>0.025</td>\n",
       "      <td>0.000000</td>\n",
       "      <td>0.000000</td>\n",
       "      <td>0.025</td>\n",
       "    </tr>\n",
       "    <tr>\n",
       "      <th>1</th>\n",
       "      <td>0.000000</td>\n",
       "      <td>0.000000</td>\n",
       "      <td>0.000</td>\n",
       "      <td>0.000</td>\n",
       "      <td>0.000</td>\n",
       "      <td>0.076923</td>\n",
       "      <td>0.000000</td>\n",
       "      <td>0.000000</td>\n",
       "      <td>0.000000</td>\n",
       "      <td>0.000000</td>\n",
       "      <td>...</td>\n",
       "      <td>0.000</td>\n",
       "      <td>0.000000</td>\n",
       "      <td>0.000000</td>\n",
       "      <td>0.000000</td>\n",
       "      <td>0.000000</td>\n",
       "      <td>0.000000</td>\n",
       "      <td>0.000</td>\n",
       "      <td>0.076923</td>\n",
       "      <td>0.000000</td>\n",
       "      <td>0.000</td>\n",
       "    </tr>\n",
       "    <tr>\n",
       "      <th>2</th>\n",
       "      <td>0.000000</td>\n",
       "      <td>0.000000</td>\n",
       "      <td>0.000</td>\n",
       "      <td>0.000</td>\n",
       "      <td>0.000</td>\n",
       "      <td>0.000000</td>\n",
       "      <td>0.000000</td>\n",
       "      <td>0.000000</td>\n",
       "      <td>0.000000</td>\n",
       "      <td>0.000000</td>\n",
       "      <td>...</td>\n",
       "      <td>0.000</td>\n",
       "      <td>0.000000</td>\n",
       "      <td>0.000000</td>\n",
       "      <td>0.000000</td>\n",
       "      <td>0.029412</td>\n",
       "      <td>0.029412</td>\n",
       "      <td>0.000</td>\n",
       "      <td>0.000000</td>\n",
       "      <td>0.058824</td>\n",
       "      <td>0.000</td>\n",
       "    </tr>\n",
       "    <tr>\n",
       "      <th>3</th>\n",
       "      <td>0.030303</td>\n",
       "      <td>0.000000</td>\n",
       "      <td>0.000</td>\n",
       "      <td>0.000</td>\n",
       "      <td>0.000</td>\n",
       "      <td>0.000000</td>\n",
       "      <td>0.000000</td>\n",
       "      <td>0.000000</td>\n",
       "      <td>0.000000</td>\n",
       "      <td>0.030303</td>\n",
       "      <td>...</td>\n",
       "      <td>0.000</td>\n",
       "      <td>0.000000</td>\n",
       "      <td>0.000000</td>\n",
       "      <td>0.000000</td>\n",
       "      <td>0.000000</td>\n",
       "      <td>0.000000</td>\n",
       "      <td>0.000</td>\n",
       "      <td>0.000000</td>\n",
       "      <td>0.000000</td>\n",
       "      <td>0.000</td>\n",
       "    </tr>\n",
       "    <tr>\n",
       "      <th>4</th>\n",
       "      <td>0.000000</td>\n",
       "      <td>0.000000</td>\n",
       "      <td>0.000</td>\n",
       "      <td>0.000</td>\n",
       "      <td>0.000</td>\n",
       "      <td>0.000000</td>\n",
       "      <td>0.029412</td>\n",
       "      <td>0.029412</td>\n",
       "      <td>0.029412</td>\n",
       "      <td>0.000000</td>\n",
       "      <td>...</td>\n",
       "      <td>0.000</td>\n",
       "      <td>0.000000</td>\n",
       "      <td>0.029412</td>\n",
       "      <td>0.000000</td>\n",
       "      <td>0.000000</td>\n",
       "      <td>0.000000</td>\n",
       "      <td>0.000</td>\n",
       "      <td>0.000000</td>\n",
       "      <td>0.000000</td>\n",
       "      <td>0.000</td>\n",
       "    </tr>\n",
       "    <tr>\n",
       "      <th>5</th>\n",
       "      <td>0.000000</td>\n",
       "      <td>0.038462</td>\n",
       "      <td>0.000</td>\n",
       "      <td>0.000</td>\n",
       "      <td>0.000</td>\n",
       "      <td>0.000000</td>\n",
       "      <td>0.000000</td>\n",
       "      <td>0.000000</td>\n",
       "      <td>0.000000</td>\n",
       "      <td>0.038462</td>\n",
       "      <td>...</td>\n",
       "      <td>0.000</td>\n",
       "      <td>0.038462</td>\n",
       "      <td>0.000000</td>\n",
       "      <td>0.038462</td>\n",
       "      <td>0.000000</td>\n",
       "      <td>0.000000</td>\n",
       "      <td>0.000</td>\n",
       "      <td>0.000000</td>\n",
       "      <td>0.000000</td>\n",
       "      <td>0.000</td>\n",
       "    </tr>\n",
       "  </tbody>\n",
       "</table>\n",
       "<p>6 rows × 134 columns</p>\n",
       "</div>"
      ],
      "text/plain": [
       "          a     about  accounts  adequate  advice      amid       and  \\\n",
       "0  0.000000  0.000000     0.025     0.025   0.025  0.000000  0.050000   \n",
       "1  0.000000  0.000000     0.000     0.000   0.000  0.076923  0.000000   \n",
       "2  0.000000  0.000000     0.000     0.000   0.000  0.000000  0.000000   \n",
       "3  0.030303  0.000000     0.000     0.000   0.000  0.000000  0.000000   \n",
       "4  0.000000  0.000000     0.000     0.000   0.000  0.000000  0.029412   \n",
       "5  0.000000  0.038462     0.000     0.000   0.000  0.000000  0.000000   \n",
       "\n",
       "       area        as        at  ...     up       was      week      what  \\\n",
       "0  0.000000  0.000000  0.000000  ...  0.025  0.000000  0.000000  0.000000   \n",
       "1  0.000000  0.000000  0.000000  ...  0.000  0.000000  0.000000  0.000000   \n",
       "2  0.000000  0.000000  0.000000  ...  0.000  0.000000  0.000000  0.000000   \n",
       "3  0.000000  0.000000  0.030303  ...  0.000  0.000000  0.000000  0.000000   \n",
       "4  0.029412  0.029412  0.000000  ...  0.000  0.000000  0.029412  0.000000   \n",
       "5  0.000000  0.000000  0.038462  ...  0.000  0.038462  0.000000  0.038462   \n",
       "\n",
       "      which      will   with  woolworths       you   your  \n",
       "0  0.000000  0.000000  0.025    0.000000  0.000000  0.025  \n",
       "1  0.000000  0.000000  0.000    0.076923  0.000000  0.000  \n",
       "2  0.029412  0.029412  0.000    0.000000  0.058824  0.000  \n",
       "3  0.000000  0.000000  0.000    0.000000  0.000000  0.000  \n",
       "4  0.000000  0.000000  0.000    0.000000  0.000000  0.000  \n",
       "5  0.000000  0.000000  0.000    0.000000  0.000000  0.000  \n",
       "\n",
       "[6 rows x 134 columns]"
      ]
     },
     "execution_count": 22,
     "metadata": {},
     "output_type": "execute_result"
    }
   ],
   "source": [
    "df"
   ]
  },
  {
   "cell_type": "code",
   "execution_count": null,
   "id": "7586dfc5-b068-48ea-8c33-16f6f9bd4c50",
   "metadata": {},
   "outputs": [],
   "source": []
  }
 ],
 "metadata": {
  "kernelspec": {
   "display_name": "Python 3 (ipykernel)",
   "language": "python",
   "name": "python3"
  },
  "language_info": {
   "codemirror_mode": {
    "name": "ipython",
    "version": 3
   },
   "file_extension": ".py",
   "mimetype": "text/x-python",
   "name": "python",
   "nbconvert_exporter": "python",
   "pygments_lexer": "ipython3",
   "version": "3.12.4"
  }
 },
 "nbformat": 4,
 "nbformat_minor": 5
}
